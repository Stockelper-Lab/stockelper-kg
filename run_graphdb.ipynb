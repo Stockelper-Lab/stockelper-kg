{
 "cells": [
  {
   "cell_type": "code",
   "execution_count": 1,
   "id": "72a193c7-49cf-4f5c-bc95-a3c5ebba5fa0",
   "metadata": {},
   "outputs": [],
   "source": [
    "%load_ext autoreload\n",
    "%autoreload 2"
   ]
  },
  {
   "cell_type": "code",
   "execution_count": 2,
   "id": "548c5ade-20dd-4f0d-bdc4-a599ba5f8f2c",
   "metadata": {},
   "outputs": [],
   "source": [
    "from utils import create_graph_db\n",
    "from tqdm import tqdm\n",
    "from stock_knowledge_graph import StockKnowledgeGraph\n",
    "from stock_graph import StockGraph, get_date_list, _get_price_df_kis"
   ]
  },
  {
   "cell_type": "code",
   "execution_count": 3,
   "id": "aceb3129-fe69-49b3-8bc1-561f1e37f2f5",
   "metadata": {
    "scrolled": true
   },
   "outputs": [
    {
     "name": "stderr",
     "output_type": "stream",
     "text": [
      "2025-08-16 18:05:57,723 - [Graph DB] - INFO - ----------------------------------------------------------------------\n",
      "2025-08-16 18:05:57,725 - [Graph DB] - INFO - Start time: 2025-08-16 18:05:57\n",
      "2025-08-16 18:05:57,726 - [Graph DB] - INFO - ----------------------------------------------------------------------\n",
      "2025-08-16 18:05:57,727 - [Graph DB] - INFO - Start time: 2025-08-16 18:05:57\n",
      "2025-08-16 18:05:57,727 - [Graph DB] - INFO - [1. get_company_info...]\n",
      "Collect kis company info: 100%|███████████████████████████████████████████████████████████████████████████████████████████████████████████████████████████████████████████| 2879/2879 [06:40<00:00,  7.18it/s]\n",
      "2025-08-16 18:12:39,414 - [Graph DB] - INFO - End time: 2025-08-16 18:12:39\n",
      "2025-08-16 18:12:39,415 - [Graph DB] - INFO - Total Time: 00:06:41\n",
      "2025-08-16 18:12:39,415 - [Graph DB] - INFO - ----------------------------------------------------------------------\n",
      "2025-08-16 18:12:39,416 - [Graph DB] - INFO - Start time: 2025-08-16 18:12:39\n",
      "2025-08-16 18:12:39,416 - [Graph DB] - INFO - [2. get_price_info...]\n",
      "Collect kis company info (date: 20250725):   6%|███████▉                                                                                                                   | 187/2879 [00:24<05:34,  8.04it/s]2025-08-16 18:13:04,208 - [Graph DB] - ERROR - Error to DB connection: list index out of range\n",
      "2025-08-16 18:13:04,209 - [Graph DB] - INFO - {'output1': {'prdy_vrss': '-16', 'prdy_vrss_sign': '5', 'prdy_ctrt': '-0.80', 'stck_prdy_clpr': '0', 'acml_vol': '28446301', 'acml_tr_pbmn': '65062210351', 'hts_kor_isnm': '교보18호스팩', 'stck_prpr': '1984', 'stck_shrn_iscd': '0041B0', 'prdy_vol': '0', 'stck_mxpr': '8000', 'stck_llam': '1200', 'stck_oprc': '2310', 'stck_hgpr': '2700', 'stck_lwpr': '1981', 'stck_prdy_oprc': '0', 'stck_prdy_hgpr': '0', 'stck_prdy_lwpr': '0', 'askp': '1984', 'bidp': '1983', 'prdy_vrss_vol': '28446301', 'vol_tnrt': '564.41', 'stck_fcam': '100', 'lstn_stcn': '5040000', 'cpfn': '5', 'hts_avls': '100', 'per': '0.00', 'eps': '0.00', 'pbr': '0.00', 'itewhol_loan_rmnd_ratem name': '0.00'}, 'output2': [], 'rt_cd': '0', 'msg_cd': 'MCA00000', 'msg1': '정상처리 되었습니다.'}\n",
      "Collect kis company info (date: 20250725):  15%|██████████████████▎                                                                                                        | 429/2879 [00:55<05:10,  7.88it/s]2025-08-16 18:13:34,953 - [Graph DB] - ERROR - Error to DB connection: list index out of range\n",
      "2025-08-16 18:13:34,954 - [Graph DB] - INFO - {'output1': {'prdy_vrss': '-1300', 'prdy_vrss_sign': '5', 'prdy_ctrt': '-1.45', 'stck_prdy_clpr': '89700', 'acml_vol': '631705', 'acml_tr_pbmn': '56038917500', 'hts_kor_isnm': '대한조선', 'stck_prpr': '88400', 'stck_shrn_iscd': '439260', 'prdy_vol': '740843', 'stck_mxpr': '116600', 'stck_llam': '62800', 'stck_oprc': '89700', 'stck_hgpr': '90700', 'stck_lwpr': '86400', 'stck_prdy_oprc': '95300', 'stck_prdy_hgpr': '96400', 'stck_prdy_lwpr': '88500', 'askp': '88400', 'bidp': '88300', 'prdy_vrss_vol': '-109138', 'vol_tnrt': '1.64', 'stck_fcam': '5000', 'lstn_stcn': '38526312', 'cpfn': '1926', 'hts_avls': '34057', 'per': '15.63', 'eps': '5656.00', 'pbr': '5.95', 'itewhol_loan_rmnd_ratem name': '0.38'}, 'output2': [], 'rt_cd': '0', 'msg_cd': 'MCA00000', 'msg1': '정상처리 되었습니다.'}\n",
      "Collect kis company info (date: 20250725):  46%|███████████████████████████████████████████████████████▉                                                                  | 1320/2879 [02:49<03:20,  7.77it/s]2025-08-16 18:15:28,827 - [Graph DB] - ERROR - Error to DB connection: list index out of range\n",
      "2025-08-16 18:15:28,828 - [Graph DB] - INFO - {'output1': {'prdy_vrss': '-200', 'prdy_vrss_sign': '5', 'prdy_ctrt': '-0.78', 'stck_prdy_clpr': '25800', 'acml_vol': '303297', 'acml_tr_pbmn': '7848596300', 'hts_kor_isnm': '아이티켐', 'stck_prpr': '25600', 'stck_shrn_iscd': '309710', 'prdy_vol': '478168', 'stck_mxpr': '33500', 'stck_llam': '18100', 'stck_oprc': '25600', 'stck_hgpr': '26700', 'stck_lwpr': '25200', 'stck_prdy_oprc': '26250', 'stck_prdy_hgpr': '26600', 'stck_prdy_lwpr': '24400', 'askp': '25650', 'bidp': '25600', 'prdy_vrss_vol': '-174871', 'vol_tnrt': '2.41', 'stck_fcam': '500', 'lstn_stcn': '12583001', 'cpfn': '63', 'hts_avls': '3221', 'per': '22.05', 'eps': '1161.00', 'pbr': '5.34', 'itewhol_loan_rmnd_ratem name': '0.00'}, 'output2': [], 'rt_cd': '0', 'msg_cd': 'MCA00000', 'msg1': '정상처리 되었습니다.'}\n",
      "Collect kis company info (date: 20250725):  55%|██████████████████████████████████████████████████████████████████▉                                                       | 1581/2879 [03:22<02:51,  7.57it/s]2025-08-16 18:16:02,112 - [Graph DB] - ERROR - Error to DB connection: list index out of range\n",
      "2025-08-16 18:16:02,113 - [Graph DB] - INFO - {'output1': {'prdy_vrss': '-190', 'prdy_vrss_sign': '5', 'prdy_ctrt': '-1.27', 'stck_prdy_clpr': '15010', 'acml_vol': '253088', 'acml_tr_pbmn': '3803157835', 'hts_kor_isnm': '엔알비', 'stck_prpr': '14820', 'stck_shrn_iscd': '475230', 'prdy_vol': '238483', 'stck_mxpr': '19510', 'stck_llam': '10510', 'stck_oprc': '15010', 'stck_hgpr': '15280', 'stck_lwpr': '14770', 'stck_prdy_oprc': '14880', 'stck_prdy_hgpr': '15150', 'stck_prdy_lwpr': '14665', 'askp': '14840', 'bidp': '14820', 'prdy_vrss_vol': '14605', 'vol_tnrt': '2.43', 'stck_fcam': '500', 'lstn_stcn': '10427139', 'cpfn': '52', 'hts_avls': '1545', 'per': '57.00', 'eps': '260.00', 'pbr': '3.09', 'itewhol_loan_rmnd_ratem name': '0.00'}, 'output2': [], 'rt_cd': '0', 'msg_cd': 'MCA00000', 'msg1': '정상처리 되었습니다.'}\n",
      "Collect kis company info (date: 20250725):  74%|██████████████████████████████████████████████████████████████████████████████████████████▌                               | 2138/2879 [04:33<01:32,  7.98it/s]2025-08-16 18:17:13,317 - [Graph DB] - ERROR - Error to DB connection: list index out of range\n",
      "2025-08-16 18:17:13,317 - [Graph DB] - INFO - {'output1': {'prdy_vrss': '35800', 'prdy_vrss_sign': '2', 'prdy_ctrt': '61.72', 'stck_prdy_clpr': '0', 'acml_vol': '6682113', 'acml_tr_pbmn': '614091877050', 'hts_kor_isnm': '지투지바이오', 'stck_prpr': '93800', 'stck_shrn_iscd': '456160', 'prdy_vol': '0', 'stck_mxpr': '232000', 'stck_llam': '34800', 'stck_oprc': '86500', 'stck_hgpr': '98200', 'stck_lwpr': '82700', 'stck_prdy_oprc': '0', 'stck_prdy_hgpr': '0', 'stck_prdy_lwpr': '0', 'askp': '93800', 'bidp': '93700', 'prdy_vrss_vol': '6682113', 'vol_tnrt': '124.53', 'stck_fcam': '500', 'lstn_stcn': '5365694', 'cpfn': '27', 'hts_avls': '5033', 'per': '0.00', 'eps': '0.00', 'pbr': '0.00', 'itewhol_loan_rmnd_ratem name': '0.00'}, 'output2': [], 'rt_cd': '0', 'msg_cd': 'MCA00000', 'msg1': '정상처리 되었습니다.'}\n",
      "Collect kis company info (date: 20250725):  89%|████████████████████████████████████████████████████████████████████████████████████████████████████████████▏             | 2554/2879 [05:27<00:40,  8.03it/s]2025-08-16 18:18:06,560 - [Graph DB] - ERROR - Error to DB connection: list index out of range\n",
      "2025-08-16 18:18:06,560 - [Graph DB] - INFO - {'output1': {'prdy_vrss': '-840', 'prdy_vrss_sign': '5', 'prdy_ctrt': '-4.31', 'stck_prdy_clpr': '19500', 'acml_vol': '1756702', 'acml_tr_pbmn': '34758025335', 'hts_kor_isnm': '프로티나', 'stck_prpr': '18660', 'stck_shrn_iscd': '468530', 'prdy_vol': '3158982', 'stck_mxpr': '25350', 'stck_llam': '13650', 'stck_oprc': '19610', 'stck_hgpr': '20850', 'stck_lwpr': '18540', 'stck_prdy_oprc': '19480', 'stck_prdy_hgpr': '21350', 'stck_prdy_lwpr': '18890', 'askp': '18670', 'bidp': '18660', 'prdy_vrss_vol': '-1402280', 'vol_tnrt': '16.29', 'stck_fcam': '100', 'lstn_stcn': '10784365', 'cpfn': '11', 'hts_avls': '2012', 'per': '-20.46', 'eps': '-912.00', 'pbr': '10.94', 'itewhol_loan_rmnd_ratem name': '0.00'}, 'output2': [], 'rt_cd': '0', 'msg_cd': 'MCA00000', 'msg1': '정상처리 되었습니다.'}\n",
      "Collect kis company info (date: 20250725):  91%|██████████████████████████████████████████████████████████████████████████████████████████████████████████████▌           | 2609/2879 [05:34<00:34,  7.86it/s]2025-08-16 18:18:13,657 - [Graph DB] - ERROR - Error to DB connection: list index out of range\n",
      "2025-08-16 18:18:13,658 - [Graph DB] - INFO - {'output1': {'prdy_vrss': '0', 'prdy_vrss_sign': '3', 'prdy_ctrt': '0.00', 'stck_prdy_clpr': '1987', 'acml_vol': '73865', 'acml_tr_pbmn': '146795482', 'hts_kor_isnm': '하나35호스팩', 'stck_prpr': '1987', 'stck_shrn_iscd': '0041L0', 'prdy_vol': '99929', 'stck_mxpr': '2580', 'stck_llam': '1391', 'stck_oprc': '1987', 'stck_hgpr': '1990', 'stck_lwpr': '1986', 'stck_prdy_oprc': '1988', 'stck_prdy_hgpr': '1993', 'stck_prdy_lwpr': '1986', 'askp': '1988', 'bidp': '1987', 'prdy_vrss_vol': '-26064', 'vol_tnrt': '1.22', 'stck_fcam': '100', 'lstn_stcn': '6030000', 'cpfn': '6', 'hts_avls': '120', 'per': '0.00', 'eps': '0.00', 'pbr': '0.00', 'itewhol_loan_rmnd_ratem name': '0.00'}, 'output2': [], 'rt_cd': '0', 'msg_cd': 'MCA00000', 'msg1': '정상처리 되었습니다.'}\n",
      "Collect kis company info (date: 20250725): 100%|██████████████████████████████████████████████████████████████████████████████████████████████████████████████████████████| 2879/2879 [06:08<00:00,  7.81it/s]\n",
      "2025-08-16 18:18:47,859 - [Graph DB] - INFO - End time: 2025-08-16 18:18:47\n",
      "2025-08-16 18:18:47,859 - [Graph DB] - INFO - Total Time: 00:06:08\n",
      "2025-08-16 18:18:47,860 - [Graph DB] - INFO - ----------------------------------------------------------------------\n",
      "2025-08-16 18:18:47,860 - [Graph DB] - INFO - Start time: 2025-08-16 18:18:47\n",
      "2025-08-16 18:18:47,861 - [Graph DB] - INFO - [3. get_competitor_info...]\n",
      "2025-08-16 18:18:47,927 - [Graph DB] - INFO - Convert MongoDB to competitor_df\n",
      "2025-08-16 18:18:47,958 - [Graph DB] - INFO - End time: 2025-08-16 18:18:47\n",
      "2025-08-16 18:18:47,959 - [Graph DB] - INFO - Total Time: 00:00:00\n",
      "2025-08-16 18:18:47,959 - [Graph DB] - INFO - ----------------------------------------------------------------------\n",
      "2025-08-16 18:18:47,960 - [Graph DB] - INFO - Start time: 2025-08-16 18:18:47\n",
      "2025-08-16 18:18:47,960 - [Graph DB] - INFO - [4. get_financial_statements...]\n",
      "Collect financial statements info (date: 20250725):   0%|                                                                                                                  | 1/2879 [00:01<1:19:13,  1.65s/it]"
     ]
    },
    {
     "name": "stdout",
     "output_type": "stream",
     "text": [
      "\n",
      "Financial Statements: (stock_code: 098120, year: 2025, quarter: 2)\n",
      "\n",
      "Financial Statements: (stock_code: 009520, year: 2025, quarter: 2)\n"
     ]
    },
    {
     "name": "stderr",
     "output_type": "stream",
     "text": [
      "Collect financial statements info (date: 20250725):   0%|                                                                                                                    | 2/2879 [00:01<38:06,  1.26it/s]"
     ]
    },
    {
     "name": "stdout",
     "output_type": "stream",
     "text": [
      "\n",
      "Financial Statements: (stock_code: 095570, year: 2025, quarter: 2)\n",
      "{'status': '013', 'message': '조회된 데이타가 없습니다.'}\n",
      "\n",
      "Financial Statements: (stock_code: 095570, year: 2025, quarter: 1)\n"
     ]
    },
    {
     "name": "stderr",
     "output_type": "stream",
     "text": [
      "Collect financial statements info (date: 20250725):   0%|▏                                                                                                                   | 4/2879 [00:02<19:42,  2.43it/s]"
     ]
    },
    {
     "name": "stdout",
     "output_type": "stream",
     "text": [
      "\n",
      "Financial Statements: (stock_code: 006840, year: 2025, quarter: 2)\n"
     ]
    },
    {
     "name": "stderr",
     "output_type": "stream",
     "text": [
      "Collect financial statements info (date: 20250725):   0%|▏                                                                                                                   | 5/2879 [00:02<16:03,  2.98it/s]"
     ]
    },
    {
     "name": "stdout",
     "output_type": "stream",
     "text": [
      "\n",
      "Financial Statements: (stock_code: 282330, year: 2025, quarter: 2)\n",
      "\n",
      "Financial Statements: (stock_code: 027410, year: 2025, quarter: 2)\n"
     ]
    },
    {
     "name": "stderr",
     "output_type": "stream",
     "text": [
      "Collect financial statements info (date: 20250725):   0%|▎                                                                                                                   | 7/2879 [00:02<12:16,  3.90it/s]"
     ]
    },
    {
     "name": "stdout",
     "output_type": "stream",
     "text": [
      "\n",
      "Financial Statements: (stock_code: 138930, year: 2025, quarter: 2)\n",
      "\n",
      "Financial Statements: (stock_code: 001465, year: 2025, quarter: 2)\n",
      "\n",
      "Financial Statements: (stock_code: 001465, year: 2025, quarter: 1)\n",
      "\n",
      "Financial Statements: (stock_code: 001465, year: 2024, quarter: 4)\n"
     ]
    },
    {
     "name": "stderr",
     "output_type": "stream",
     "text": [
      "Collect financial statements info (date: 20250725):   0%|▎                                                                                                                   | 8/2879 [00:03<10:33,  4.53it/s]"
     ]
    },
    {
     "name": "stdout",
     "output_type": "stream",
     "text": [
      "No available financial data for 001465\n",
      "\n",
      "Financial Statements: (stock_code: 001460, year: 2025, quarter: 2)\n",
      "{'status': '013', 'message': '조회된 데이타가 없습니다.'}\n",
      "\n",
      "Financial Statements: (stock_code: 001460, year: 2025, quarter: 1)\n"
     ]
    },
    {
     "name": "stderr",
     "output_type": "stream",
     "text": [
      "Collect financial statements info (date: 20250725):   0%|▍                                                                                                                  | 10/2879 [00:03<09:36,  4.97it/s]"
     ]
    },
    {
     "name": "stdout",
     "output_type": "stream",
     "text": [
      "\n",
      "Financial Statements: (stock_code: 001045, year: 2025, quarter: 2)\n",
      "\n",
      "Financial Statements: (stock_code: 001045, year: 2025, quarter: 1)\n",
      "\n",
      "Financial Statements: (stock_code: 001045, year: 2024, quarter: 4)\n",
      "No available financial data for 001045\n",
      "\n",
      "Financial Statements: (stock_code: 00104K, year: 2025, quarter: 2)\n",
      "\n",
      "Financial Statements: (stock_code: 00104K, year: 2025, quarter: 1)\n",
      "\n",
      "Financial Statements: (stock_code: 00104K, year: 2024, quarter: 4)\n",
      "No available financial data for 00104K\n"
     ]
    },
    {
     "name": "stderr",
     "output_type": "stream",
     "text": [
      "Collect financial statements info (date: 20250725):   0%|▍                                                                                                                  | 12/2879 [00:03<09:00,  5.30it/s]"
     ]
    },
    {
     "name": "stdout",
     "output_type": "stream",
     "text": [
      "\n",
      "Financial Statements: (stock_code: 001040, year: 2025, quarter: 2)\n",
      "\n",
      "Financial Statements: (stock_code: 011155, year: 2025, quarter: 2)\n",
      "\n",
      "Financial Statements: (stock_code: 011155, year: 2025, quarter: 1)\n"
     ]
    },
    {
     "name": "stderr",
     "output_type": "stream",
     "text": [
      "Collect financial statements info (date: 20250725):   0%|▌                                                                                                                  | 13/2879 [00:03<08:14,  5.80it/s]"
     ]
    },
    {
     "name": "stdout",
     "output_type": "stream",
     "text": [
      "\n",
      "Financial Statements: (stock_code: 011155, year: 2024, quarter: 4)\n",
      "No available financial data for 011155\n",
      "\n",
      "Financial Statements: (stock_code: 011150, year: 2025, quarter: 2)\n"
     ]
    },
    {
     "name": "stderr",
     "output_type": "stream",
     "text": [
      "Collect financial statements info (date: 20250725):   1%|▌                                                                                                                  | 15/2879 [00:04<08:51,  5.38it/s]"
     ]
    },
    {
     "name": "stdout",
     "output_type": "stream",
     "text": [
      "\n",
      "Financial Statements: (stock_code: 058820, year: 2025, quarter: 2)\n",
      "\n",
      "Financial Statements: (stock_code: 000590, year: 2025, quarter: 2)\n"
     ]
    },
    {
     "name": "stderr",
     "output_type": "stream",
     "text": [
      "Collect financial statements info (date: 20250725):   1%|▋                                                                                                                  | 17/2879 [00:04<09:03,  5.26it/s]"
     ]
    },
    {
     "name": "stdout",
     "output_type": "stream",
     "text": [
      "\n",
      "Financial Statements: (stock_code: 012030, year: 2025, quarter: 2)\n",
      "\n",
      "Financial Statements: (stock_code: 005830, year: 2025, quarter: 2)\n"
     ]
    },
    {
     "name": "stderr",
     "output_type": "stream",
     "text": [
      "Collect financial statements info (date: 20250725):   1%|▊                                                                                                                  | 19/2879 [00:05<09:35,  4.97it/s]"
     ]
    },
    {
     "name": "stdout",
     "output_type": "stream",
     "text": [
      "\n",
      "Financial Statements: (stock_code: 016610, year: 2025, quarter: 2)\n"
     ]
    },
    {
     "name": "stderr",
     "output_type": "stream",
     "text": [
      "Collect financial statements info (date: 20250725):   1%|▊                                                                                                                  | 20/2879 [00:05<09:33,  4.98it/s]"
     ]
    },
    {
     "name": "stdout",
     "output_type": "stream",
     "text": [
      "\n",
      "Financial Statements: (stock_code: 000990, year: 2025, quarter: 2)\n",
      "\n",
      "Financial Statements: (stock_code: 001530, year: 2025, quarter: 2)\n"
     ]
    },
    {
     "name": "stderr",
     "output_type": "stream",
     "text": [
      "Collect financial statements info (date: 20250725):   1%|▉                                                                                                                  | 22/2879 [00:05<08:40,  5.49it/s]"
     ]
    },
    {
     "name": "stdout",
     "output_type": "stream",
     "text": [
      "\n",
      "Financial Statements: (stock_code: 000215, year: 2025, quarter: 2)\n",
      "\n",
      "Financial Statements: (stock_code: 000215, year: 2025, quarter: 1)\n",
      "\n",
      "Financial Statements: (stock_code: 000215, year: 2024, quarter: 4)\n",
      "No available financial data for 000215\n",
      "\n",
      "Financial Statements: (stock_code: 000210, year: 2025, quarter: 2)\n"
     ]
    },
    {
     "name": "stderr",
     "output_type": "stream",
     "text": [
      "Collect financial statements info (date: 20250725):   1%|▉                                                                                                                  | 24/2879 [00:05<08:07,  5.86it/s]"
     ]
    },
    {
     "name": "stdout",
     "output_type": "stream",
     "text": [
      "\n",
      "Financial Statements: (stock_code: 37550K, year: 2025, quarter: 2)\n",
      "\n",
      "Financial Statements: (stock_code: 37550K, year: 2025, quarter: 1)\n",
      "\n",
      "Financial Statements: (stock_code: 37550K, year: 2024, quarter: 4)\n",
      "No available financial data for 37550K\n",
      "\n",
      "Financial Statements: (stock_code: 37550L, year: 2025, quarter: 2)\n",
      "\n",
      "Financial Statements: (stock_code: 37550L, year: 2025, quarter: 1)\n",
      "\n",
      "Financial Statements: (stock_code: 37550L, year: 2024, quarter: 4)\n",
      "No available financial data for 37550L\n"
     ]
    },
    {
     "name": "stderr",
     "output_type": "stream",
     "text": [
      "Collect financial statements info (date: 20250725):   1%|█                                                                                                                  | 26/2879 [00:06<08:08,  5.84it/s]"
     ]
    },
    {
     "name": "stdout",
     "output_type": "stream",
     "text": [
      "\n",
      "Financial Statements: (stock_code: 375500, year: 2025, quarter: 2)\n",
      "\n",
      "Financial Statements: (stock_code: 155660, year: 2025, quarter: 2)\n"
     ]
    },
    {
     "name": "stderr",
     "output_type": "stream",
     "text": [
      "Collect financial statements info (date: 20250725):   1%|█                                                                                                                  | 27/2879 [00:06<08:37,  5.51it/s]"
     ]
    },
    {
     "name": "stdout",
     "output_type": "stream",
     "text": [
      "\n",
      "Financial Statements: (stock_code: 069730, year: 2025, quarter: 2)\n",
      "{'status': '013', 'message': '조회된 데이타가 없습니다.'}\n",
      "\n",
      "Financial Statements: (stock_code: 069730, year: 2025, quarter: 1)\n"
     ]
    },
    {
     "name": "stderr",
     "output_type": "stream",
     "text": [
      "Collect financial statements info (date: 20250725):   1%|█▏                                                                                                                 | 29/2879 [00:06<09:21,  5.08it/s]"
     ]
    },
    {
     "name": "stdout",
     "output_type": "stream",
     "text": [
      "\n",
      "Financial Statements: (stock_code: 017860, year: 2025, quarter: 2)\n",
      "\n",
      "Financial Statements: (stock_code: 017940, year: 2025, quarter: 2)\n"
     ]
    },
    {
     "name": "stderr",
     "output_type": "stream",
     "text": [
      "Collect financial statements info (date: 20250725):   1%|█▏                                                                                                                 | 31/2879 [00:07<09:20,  5.08it/s]"
     ]
    },
    {
     "name": "stdout",
     "output_type": "stream",
     "text": [
      "\n",
      "Financial Statements: (stock_code: 365550, year: 2025, quarter: 2)\n",
      "\n",
      "Financial Statements: (stock_code: 050120, year: 2025, quarter: 2)\n"
     ]
    },
    {
     "name": "stderr",
     "output_type": "stream",
     "text": [
      "Collect financial statements info (date: 20250725):   1%|█▎                                                                                                                 | 32/2879 [00:07<10:01,  4.73it/s]"
     ]
    },
    {
     "name": "stdout",
     "output_type": "stream",
     "text": [
      "{'status': '013', 'message': '조회된 데이타가 없습니다.'}\n",
      "\n",
      "Financial Statements: (stock_code: 050120, year: 2025, quarter: 1)\n",
      "\n",
      "Financial Statements: (stock_code: 383220, year: 2025, quarter: 2)\n"
     ]
    },
    {
     "name": "stderr",
     "output_type": "stream",
     "text": [
      "Collect financial statements info (date: 20250725):   1%|█▎                                                                                                                 | 33/2879 [00:07<10:41,  4.44it/s]"
     ]
    },
    {
     "name": "stdout",
     "output_type": "stream",
     "text": [
      "{'status': '013', 'message': '조회된 데이타가 없습니다.'}\n",
      "\n",
      "Financial Statements: (stock_code: 383220, year: 2025, quarter: 1)\n",
      "\n",
      "Financial Statements: (stock_code: 007700, year: 2025, quarter: 2)\n"
     ]
    },
    {
     "name": "stderr",
     "output_type": "stream",
     "text": [
      "Collect financial statements info (date: 20250725):   1%|█▍                                                                                                                 | 35/2879 [00:08<09:01,  5.26it/s]"
     ]
    },
    {
     "name": "stdout",
     "output_type": "stream",
     "text": [
      "\n",
      "Financial Statements: (stock_code: 078935, year: 2025, quarter: 2)\n",
      "\n",
      "Financial Statements: (stock_code: 078935, year: 2025, quarter: 1)\n",
      "\n",
      "Financial Statements: (stock_code: 078935, year: 2024, quarter: 4)\n",
      "No available financial data for 078935\n",
      "\n",
      "Financial Statements: (stock_code: 006360, year: 2025, quarter: 2)\n"
     ]
    },
    {
     "name": "stderr",
     "output_type": "stream",
     "text": [
      "Collect financial statements info (date: 20250725):   1%|█▍                                                                                                                 | 37/2879 [00:08<09:06,  5.20it/s]"
     ]
    },
    {
     "name": "stdout",
     "output_type": "stream",
     "text": [
      "\n",
      "Financial Statements: (stock_code: 078930, year: 2025, quarter: 2)\n",
      "\n",
      "Financial Statements: (stock_code: 012630, year: 2025, quarter: 2)\n"
     ]
    },
    {
     "name": "stderr",
     "output_type": "stream",
     "text": [
      "Collect financial statements info (date: 20250725):   1%|█▌                                                                                                                 | 39/2879 [00:08<08:57,  5.28it/s]"
     ]
    },
    {
     "name": "stdout",
     "output_type": "stream",
     "text": [
      "\n",
      "Financial Statements: (stock_code: 294870, year: 2025, quarter: 2)\n",
      "\n",
      "Financial Statements: (stock_code: 097230, year: 2025, quarter: 2)\n"
     ]
    },
    {
     "name": "stderr",
     "output_type": "stream",
     "text": [
      "Collect financial statements info (date: 20250725):   1%|█▌                                                                                                                 | 40/2879 [00:09<09:48,  4.82it/s]"
     ]
    },
    {
     "name": "stdout",
     "output_type": "stream",
     "text": [
      "{'status': '013', 'message': '조회된 데이타가 없습니다.'}\n",
      "\n",
      "Financial Statements: (stock_code: 097230, year: 2025, quarter: 1)\n",
      "\n",
      "Financial Statements: (stock_code: 014790, year: 2025, quarter: 2)\n"
     ]
    },
    {
     "name": "stderr",
     "output_type": "stream",
     "text": [
      "Collect financial statements info (date: 20250725):   1%|█▋                                                                                                                 | 41/2879 [00:09<11:09,  4.24it/s]"
     ]
    },
    {
     "name": "stdout",
     "output_type": "stream",
     "text": [
      "{'status': '013', 'message': '조회된 데이타가 없습니다.'}\n",
      "\n",
      "Financial Statements: (stock_code: 014790, year: 2025, quarter: 1)\n",
      "\n",
      "Financial Statements: (stock_code: 024850, year: 2025, quarter: 2)\n"
     ]
    },
    {
     "name": "stderr",
     "output_type": "stream",
     "text": [
      "Collect financial statements info (date: 20250725):   1%|█▋                                                                                                                 | 43/2879 [00:09<10:16,  4.60it/s]"
     ]
    },
    {
     "name": "stdout",
     "output_type": "stream",
     "text": [
      "\n",
      "Financial Statements: (stock_code: 204320, year: 2025, quarter: 2)\n",
      "\n",
      "Financial Statements: (stock_code: 060980, year: 2025, quarter: 2)\n"
     ]
    },
    {
     "name": "stderr",
     "output_type": "stream",
     "text": [
      "Collect financial statements info (date: 20250725):   2%|█▊                                                                                                                 | 45/2879 [00:10<09:55,  4.76it/s]"
     ]
    },
    {
     "name": "stdout",
     "output_type": "stream",
     "text": [
      "\n",
      "Financial Statements: (stock_code: 035000, year: 2025, quarter: 2)\n",
      "\n",
      "Financial Statements: (stock_code: 003560, year: 2025, quarter: 2)\n"
     ]
    },
    {
     "name": "stderr",
     "output_type": "stream",
     "text": [
      "Collect financial statements info (date: 20250725):   2%|█▉                                                                                                                 | 47/2879 [00:10<09:44,  4.84it/s]"
     ]
    },
    {
     "name": "stdout",
     "output_type": "stream",
     "text": [
      "\n",
      "Financial Statements: (stock_code: 015360, year: 2025, quarter: 2)\n",
      "\n",
      "Financial Statements: (stock_code: 175330, year: 2025, quarter: 2)\n"
     ]
    },
    {
     "name": "stderr",
     "output_type": "stream",
     "text": [
      "Collect financial statements info (date: 20250725):   2%|█▉                                                                                                                 | 49/2879 [00:11<09:41,  4.87it/s]"
     ]
    },
    {
     "name": "stdout",
     "output_type": "stream",
     "text": [
      "\n",
      "Financial Statements: (stock_code: 234080, year: 2025, quarter: 2)\n",
      "\n",
      "Financial Statements: (stock_code: 001065, year: 2025, quarter: 2)\n"
     ]
    },
    {
     "name": "stderr",
     "output_type": "stream",
     "text": [
      "Collect financial statements info (date: 20250725):   2%|█▉                                                                                                                 | 50/2879 [00:11<08:47,  5.37it/s]"
     ]
    },
    {
     "name": "stdout",
     "output_type": "stream",
     "text": [
      "\n",
      "Financial Statements: (stock_code: 001065, year: 2025, quarter: 1)\n",
      "\n",
      "Financial Statements: (stock_code: 001065, year: 2024, quarter: 4)\n",
      "No available financial data for 001065\n",
      "\n",
      "Financial Statements: (stock_code: 001067, year: 2025, quarter: 2)\n",
      "\n",
      "Financial Statements: (stock_code: 001067, year: 2025, quarter: 1)\n",
      "\n",
      "Financial Statements: (stock_code: 001067, year: 2024, quarter: 4)\n",
      "No available financial data for 001067\n"
     ]
    },
    {
     "name": "stderr",
     "output_type": "stream",
     "text": [
      "Collect financial statements info (date: 20250725):   2%|██                                                                                                                 | 52/2879 [00:11<08:22,  5.62it/s]"
     ]
    },
    {
     "name": "stdout",
     "output_type": "stream",
     "text": [
      "\n",
      "Financial Statements: (stock_code: 001060, year: 2025, quarter: 2)\n",
      "\n",
      "Financial Statements: (stock_code: 096760, year: 2025, quarter: 2)\n"
     ]
    },
    {
     "name": "stderr",
     "output_type": "stream",
     "text": [
      "Collect financial statements info (date: 20250725):   2%|██▏                                                                                                                | 54/2879 [00:11<08:55,  5.28it/s]"
     ]
    },
    {
     "name": "stdout",
     "output_type": "stream",
     "text": [
      "\n",
      "Financial Statements: (stock_code: 105560, year: 2025, quarter: 2)\n",
      "\n",
      "Financial Statements: (stock_code: 432320, year: 2025, quarter: 2)\n"
     ]
    },
    {
     "name": "stderr",
     "output_type": "stream",
     "text": [
      "Collect financial statements info (date: 20250725):   2%|██▏                                                                                                                | 56/2879 [00:12<09:05,  5.18it/s]"
     ]
    },
    {
     "name": "stdout",
     "output_type": "stream",
     "text": [
      "\n",
      "Financial Statements: (stock_code: 024120, year: 2025, quarter: 2)\n",
      "\n",
      "Financial Statements: (stock_code: 009070, year: 2025, quarter: 2)\n"
     ]
    },
    {
     "name": "stderr",
     "output_type": "stream",
     "text": [
      "Collect financial statements info (date: 20250725):   2%|██▎                                                                                                                | 58/2879 [00:12<09:19,  5.05it/s]"
     ]
    },
    {
     "name": "stdout",
     "output_type": "stream",
     "text": [
      "\n",
      "Financial Statements: (stock_code: 044180, year: 2025, quarter: 2)\n"
     ]
    },
    {
     "name": "stderr",
     "output_type": "stream",
     "text": [
      "Collect financial statements info (date: 20250725):   2%|██▎                                                                                                                | 59/2879 [00:12<09:38,  4.87it/s]"
     ]
    },
    {
     "name": "stdout",
     "output_type": "stream",
     "text": [
      "\n",
      "Financial Statements: (stock_code: 003620, year: 2025, quarter: 2)\n"
     ]
    },
    {
     "name": "stderr",
     "output_type": "stream",
     "text": [
      "Collect financial statements info (date: 20250725):   2%|██▍                                                                                                                | 60/2879 [00:13<09:23,  5.00it/s]"
     ]
    },
    {
     "name": "stdout",
     "output_type": "stream",
     "text": [
      "\n",
      "Financial Statements: (stock_code: 016380, year: 2025, quarter: 2)\n",
      "\n",
      "Financial Statements: (stock_code: 001390, year: 2025, quarter: 2)\n"
     ]
    },
    {
     "name": "stderr",
     "output_type": "stream",
     "text": [
      "Collect financial statements info (date: 20250725):   2%|██▍                                                                                                                | 62/2879 [00:13<09:24,  4.99it/s]"
     ]
    },
    {
     "name": "stdout",
     "output_type": "stream",
     "text": [
      "\n",
      "Financial Statements: (stock_code: 033180, year: 2025, quarter: 2)\n",
      "\n",
      "Financial Statements: (stock_code: 001940, year: 2025, quarter: 2)\n"
     ]
    },
    {
     "name": "stderr",
     "output_type": "stream",
     "text": [
      "Collect financial statements info (date: 20250725):   2%|██▌                                                                                                                | 64/2879 [00:13<09:13,  5.08it/s]"
     ]
    },
    {
     "name": "stdout",
     "output_type": "stream",
     "text": [
      "\n",
      "Financial Statements: (stock_code: 025000, year: 2025, quarter: 2)\n",
      "\n",
      "Financial Statements: (stock_code: 092230, year: 2025, quarter: 2)\n"
     ]
    },
    {
     "name": "stderr",
     "output_type": "stream",
     "text": [
      "Collect financial statements info (date: 20250725):   2%|██▋                                                                                                                | 66/2879 [00:14<09:18,  5.04it/s]"
     ]
    },
    {
     "name": "stdout",
     "output_type": "stream",
     "text": [
      "\n",
      "Financial Statements: (stock_code: 000040, year: 2025, quarter: 2)\n",
      "\n",
      "Financial Statements: (stock_code: 093050, year: 2025, quarter: 2)\n"
     ]
    },
    {
     "name": "stderr",
     "output_type": "stream",
     "text": [
      "Collect financial statements info (date: 20250725):   2%|██▋                                                                                                                | 68/2879 [00:14<08:30,  5.50it/s]"
     ]
    },
    {
     "name": "stdout",
     "output_type": "stream",
     "text": [
      "\n",
      "Financial Statements: (stock_code: 003555, year: 2025, quarter: 2)\n",
      "\n",
      "Financial Statements: (stock_code: 003555, year: 2025, quarter: 1)\n",
      "\n",
      "Financial Statements: (stock_code: 003555, year: 2024, quarter: 4)\n",
      "No available financial data for 003555\n",
      "\n",
      "Financial Statements: (stock_code: 034220, year: 2025, quarter: 2)\n"
     ]
    },
    {
     "name": "stderr",
     "output_type": "stream",
     "text": [
      "Collect financial statements info (date: 20250725):   2%|██▊                                                                                                                | 70/2879 [00:15<08:52,  5.28it/s]"
     ]
    },
    {
     "name": "stdout",
     "output_type": "stream",
     "text": [
      "\n",
      "Financial Statements: (stock_code: 003550, year: 2025, quarter: 2)\n",
      "\n",
      "Financial Statements: (stock_code: 051905, year: 2025, quarter: 2)\n",
      "\n",
      "Financial Statements: (stock_code: 051905, year: 2025, quarter: 1)\n"
     ]
    },
    {
     "name": "stderr",
     "output_type": "stream",
     "text": [
      "Collect financial statements info (date: 20250725):   2%|██▊                                                                                                                | 71/2879 [00:15<08:10,  5.73it/s]"
     ]
    },
    {
     "name": "stdout",
     "output_type": "stream",
     "text": [
      "\n",
      "Financial Statements: (stock_code: 051905, year: 2024, quarter: 4)\n",
      "No available financial data for 051905\n",
      "\n",
      "Financial Statements: (stock_code: 051900, year: 2025, quarter: 2)\n",
      "{'status': '013', 'message': '조회된 데이타가 없습니다.'}\n",
      "\n",
      "Financial Statements: (stock_code: 051900, year: 2025, quarter: 1)\n"
     ]
    },
    {
     "name": "stderr",
     "output_type": "stream",
     "text": [
      "Collect financial statements info (date: 20250725):   3%|██▉                                                                                                                | 73/2879 [00:15<09:18,  5.03it/s]"
     ]
    },
    {
     "name": "stdout",
     "output_type": "stream",
     "text": [
      "\n",
      "Financial Statements: (stock_code: 373220, year: 2025, quarter: 2)\n",
      "\n",
      "Financial Statements: (stock_code: 032640, year: 2025, quarter: 2)\n"
     ]
    },
    {
     "name": "stderr",
     "output_type": "stream",
     "text": [
      "Collect financial statements info (date: 20250725):   3%|██▉                                                                                                                | 75/2879 [00:16<09:10,  5.10it/s]"
     ]
    },
    {
     "name": "stdout",
     "output_type": "stream",
     "text": [
      "\n",
      "Financial Statements: (stock_code: 011070, year: 2025, quarter: 2)\n",
      "\n",
      "Financial Statements: (stock_code: 066575, year: 2025, quarter: 2)\n",
      "\n",
      "Financial Statements: (stock_code: 066575, year: 2025, quarter: 1)\n",
      "\n",
      "Financial Statements: (stock_code: 066575, year: 2024, quarter: 4)\n",
      "No available financial data for 066575\n"
     ]
    },
    {
     "name": "stderr",
     "output_type": "stream",
     "text": [
      "Collect financial statements info (date: 20250725):   3%|███                                                                                                                | 77/2879 [00:16<09:00,  5.18it/s]"
     ]
    },
    {
     "name": "stdout",
     "output_type": "stream",
     "text": [
      "\n",
      "Financial Statements: (stock_code: 066570, year: 2025, quarter: 2)\n"
     ]
    },
    {
     "name": "stderr",
     "output_type": "stream",
     "text": [
      "Collect financial statements info (date: 20250725):   3%|███                                                                                                                | 78/2879 [00:16<08:16,  5.64it/s]"
     ]
    },
    {
     "name": "stdout",
     "output_type": "stream",
     "text": [
      "\n",
      "Financial Statements: (stock_code: 051915, year: 2025, quarter: 2)\n",
      "\n",
      "Financial Statements: (stock_code: 051915, year: 2025, quarter: 1)\n",
      "\n",
      "Financial Statements: (stock_code: 051915, year: 2024, quarter: 4)\n",
      "No available financial data for 051915\n",
      "\n",
      "Financial Statements: (stock_code: 051910, year: 2025, quarter: 2)\n"
     ]
    },
    {
     "name": "stderr",
     "output_type": "stream",
     "text": [
      "Collect financial statements info (date: 20250725):   3%|███▏                                                                                                               | 80/2879 [00:17<08:58,  5.20it/s]"
     ]
    },
    {
     "name": "stdout",
     "output_type": "stream",
     "text": [
      "\n",
      "Financial Statements: (stock_code: 079550, year: 2025, quarter: 2)\n"
     ]
    },
    {
     "name": "stderr",
     "output_type": "stream",
     "text": [
      "Collect financial statements info (date: 20250725):   3%|███▏                                                                                                               | 81/2879 [00:17<08:57,  5.21it/s]"
     ]
    },
    {
     "name": "stdout",
     "output_type": "stream",
     "text": [
      "\n",
      "Financial Statements: (stock_code: 010120, year: 2025, quarter: 2)\n",
      "\n",
      "Financial Statements: (stock_code: 000680, year: 2025, quarter: 2)\n"
     ]
    },
    {
     "name": "stderr",
     "output_type": "stream",
     "text": [
      "Collect financial statements info (date: 20250725):   3%|███▎                                                                                                               | 83/2879 [00:17<09:05,  5.13it/s]"
     ]
    },
    {
     "name": "stdout",
     "output_type": "stream",
     "text": [
      "\n",
      "Financial Statements: (stock_code: 006260, year: 2025, quarter: 2)\n",
      "\n",
      "Financial Statements: (stock_code: 229640, year: 2025, quarter: 2)\n"
     ]
    },
    {
     "name": "stderr",
     "output_type": "stream",
     "text": [
      "Collect financial statements info (date: 20250725):   3%|███▍                                                                                                               | 85/2879 [00:17<08:51,  5.25it/s]"
     ]
    },
    {
     "name": "stdout",
     "output_type": "stream",
     "text": [
      "\n",
      "Financial Statements: (stock_code: 108320, year: 2025, quarter: 2)\n",
      "\n",
      "Financial Statements: (stock_code: 001120, year: 2025, quarter: 2)\n"
     ]
    },
    {
     "name": "stderr",
     "output_type": "stream",
     "text": [
      "Collect financial statements info (date: 20250725):   3%|███▍                                                                                                               | 86/2879 [00:18<09:52,  4.71it/s]"
     ]
    },
    {
     "name": "stdout",
     "output_type": "stream",
     "text": [
      "{'status': '013', 'message': '조회된 데이타가 없습니다.'}\n",
      "\n",
      "Financial Statements: (stock_code: 001120, year: 2025, quarter: 1)\n",
      "\n",
      "Financial Statements: (stock_code: 086960, year: 2025, quarter: 2)\n"
     ]
    },
    {
     "name": "stderr",
     "output_type": "stream",
     "text": [
      "Collect financial statements info (date: 20250725):   3%|███▍                                                                                                               | 87/2879 [00:18<09:42,  4.79it/s]"
     ]
    },
    {
     "name": "stdout",
     "output_type": "stream",
     "text": [
      "\n",
      "Financial Statements: (stock_code: 023150, year: 2025, quarter: 2)\n",
      "{'status': '013', 'message': '조회된 데이타가 없습니다.'}\n",
      "\n",
      "Financial Statements: (stock_code: 023150, year: 2025, quarter: 1)\n"
     ]
    },
    {
     "name": "stderr",
     "output_type": "stream",
     "text": [
      "Collect financial statements info (date: 20250725):   3%|███▌                                                                                                               | 88/2879 [00:18<10:27,  4.45it/s]"
     ]
    },
    {
     "name": "stdout",
     "output_type": "stream",
     "text": [
      "\n",
      "Financial Statements: (stock_code: 035420, year: 2025, quarter: 2)\n",
      "{'status': '013', 'message': '조회된 데이타가 없습니다.'}\n",
      "\n",
      "Financial Statements: (stock_code: 035420, year: 2025, quarter: 1)\n"
     ]
    },
    {
     "name": "stderr",
     "output_type": "stream",
     "text": [
      "Collect financial statements info (date: 20250725):   3%|███▌                                                                                                               | 90/2879 [00:19<10:46,  4.31it/s]"
     ]
    },
    {
     "name": "stdout",
     "output_type": "stream",
     "text": [
      "\n",
      "Financial Statements: (stock_code: 181710, year: 2025, quarter: 2)\n"
     ]
    },
    {
     "name": "stderr",
     "output_type": "stream",
     "text": [
      "Collect financial statements info (date: 20250725):   3%|███▋                                                                                                               | 91/2879 [00:19<10:13,  4.54it/s]"
     ]
    },
    {
     "name": "stdout",
     "output_type": "stream",
     "text": [
      "\n",
      "Financial Statements: (stock_code: 338100, year: 2025, quarter: 2)\n",
      "\n",
      "Financial Statements: (stock_code: 034310, year: 2025, quarter: 2)\n"
     ]
    },
    {
     "name": "stderr",
     "output_type": "stream",
     "text": [
      "Collect financial statements info (date: 20250725):   3%|███▋                                                                                                               | 93/2879 [00:19<09:59,  4.65it/s]"
     ]
    },
    {
     "name": "stdout",
     "output_type": "stream",
     "text": [
      "\n",
      "Financial Statements: (stock_code: 063570, year: 2025, quarter: 2)\n"
     ]
    },
    {
     "name": "stderr",
     "output_type": "stream",
     "text": [
      "Collect financial statements info (date: 20250725):   3%|███▊                                                                                                               | 94/2879 [00:19<09:41,  4.79it/s]"
     ]
    },
    {
     "name": "stdout",
     "output_type": "stream",
     "text": [
      "\n",
      "Financial Statements: (stock_code: 008260, year: 2025, quarter: 2)\n",
      "\n",
      "Financial Statements: (stock_code: 004255, year: 2025, quarter: 2)\n",
      "\n",
      "Financial Statements: (stock_code: 004255, year: 2025, quarter: 1)\n",
      "\n",
      "Financial Statements: (stock_code: 004255, year: 2024, quarter: 4)\n"
     ]
    },
    {
     "name": "stderr",
     "output_type": "stream",
     "text": [
      "Collect financial statements info (date: 20250725):   3%|███▊                                                                                                               | 95/2879 [00:20<08:49,  5.26it/s]"
     ]
    },
    {
     "name": "stdout",
     "output_type": "stream",
     "text": [
      "No available financial data for 004255\n",
      "\n",
      "Financial Statements: (stock_code: 004250, year: 2025, quarter: 2)\n"
     ]
    },
    {
     "name": "stderr",
     "output_type": "stream",
     "text": [
      "Collect financial statements info (date: 20250725):   3%|███▊                                                                                                               | 97/2879 [00:20<08:58,  5.16it/s]"
     ]
    },
    {
     "name": "stdout",
     "output_type": "stream",
     "text": [
      "\n",
      "Financial Statements: (stock_code: 456040, year: 2025, quarter: 2)\n",
      "\n",
      "Financial Statements: (stock_code: 010955, year: 2025, quarter: 2)\n"
     ]
    },
    {
     "name": "stderr",
     "output_type": "stream",
     "text": [
      "Collect financial statements info (date: 20250725):   3%|███▉                                                                                                               | 98/2879 [00:20<08:13,  5.64it/s]"
     ]
    },
    {
     "name": "stdout",
     "output_type": "stream",
     "text": [
      "\n",
      "Financial Statements: (stock_code: 010955, year: 2025, quarter: 1)\n",
      "\n",
      "Financial Statements: (stock_code: 010955, year: 2024, quarter: 4)\n",
      "No available financial data for 010955\n",
      "\n",
      "Financial Statements: (stock_code: 010950, year: 2025, quarter: 2)\n"
     ]
    },
    {
     "name": "stderr",
     "output_type": "stream",
     "text": [
      "Collect financial statements info (date: 20250725):   3%|███▉                                                                                                              | 100/2879 [00:21<08:41,  5.33it/s]"
     ]
    },
    {
     "name": "stdout",
     "output_type": "stream",
     "text": [
      "\n",
      "Financial Statements: (stock_code: 005090, year: 2025, quarter: 2)\n",
      "\n",
      "Financial Statements: (stock_code: 001380, year: 2025, quarter: 2)\n"
     ]
    },
    {
     "name": "stderr",
     "output_type": "stream",
     "text": [
      "Collect financial statements info (date: 20250725):   4%|████                                                                                                              | 102/2879 [00:21<08:56,  5.18it/s]"
     ]
    },
    {
     "name": "stdout",
     "output_type": "stream",
     "text": [
      "\n",
      "Financial Statements: (stock_code: 001770, year: 2025, quarter: 2)\n",
      "\n",
      "Financial Statements: (stock_code: 002360, year: 2025, quarter: 2)\n"
     ]
    },
    {
     "name": "stderr",
     "output_type": "stream",
     "text": [
      "Collect financial statements info (date: 20250725):   4%|████                                                                                                              | 104/2879 [00:21<09:08,  5.06it/s]"
     ]
    },
    {
     "name": "stdout",
     "output_type": "stream",
     "text": [
      "\n",
      "Financial Statements: (stock_code: 009160, year: 2025, quarter: 2)\n"
     ]
    },
    {
     "name": "stderr",
     "output_type": "stream",
     "text": [
      "Collect financial statements info (date: 20250725):   4%|████▏                                                                                                             | 105/2879 [00:22<09:07,  5.06it/s]"
     ]
    },
    {
     "name": "stdout",
     "output_type": "stream",
     "text": [
      "\n",
      "Financial Statements: (stock_code: 123700, year: 2025, quarter: 2)\n",
      "\n",
      "Financial Statements: (stock_code: 025530, year: 2025, quarter: 2)\n"
     ]
    },
    {
     "name": "stderr",
     "output_type": "stream",
     "text": [
      "Collect financial statements info (date: 20250725):   4%|████▏                                                                                                             | 107/2879 [00:22<08:16,  5.59it/s]"
     ]
    },
    {
     "name": "stdout",
     "output_type": "stream",
     "text": [
      "\n",
      "Financial Statements: (stock_code: 03473K, year: 2025, quarter: 2)\n",
      "\n",
      "Financial Statements: (stock_code: 03473K, year: 2025, quarter: 1)\n",
      "\n",
      "Financial Statements: (stock_code: 03473K, year: 2024, quarter: 4)\n",
      "No available financial data for 03473K\n",
      "\n",
      "Financial Statements: (stock_code: 011790, year: 2025, quarter: 2)\n"
     ]
    },
    {
     "name": "stderr",
     "output_type": "stream",
     "text": [
      "Collect financial statements info (date: 20250725):   4%|████▎                                                                                                             | 109/2879 [00:22<08:35,  5.37it/s]"
     ]
    },
    {
     "name": "stdout",
     "output_type": "stream",
     "text": [
      "\n",
      "Financial Statements: (stock_code: 018670, year: 2025, quarter: 2)\n",
      "\n",
      "Financial Statements: (stock_code: 001740, year: 2025, quarter: 2)\n"
     ]
    },
    {
     "name": "stderr",
     "output_type": "stream",
     "text": [
      "Collect financial statements info (date: 20250725):   4%|████▍                                                                                                             | 111/2879 [00:23<08:46,  5.25it/s]"
     ]
    },
    {
     "name": "stdout",
     "output_type": "stream",
     "text": [
      "\n",
      "Financial Statements: (stock_code: 210980, year: 2025, quarter: 2)\n",
      "\n",
      "Financial Statements: (stock_code: 395400, year: 2025, quarter: 2)\n",
      "{'status': '013', 'message': '조회된 데이타가 없습니다.'}\n",
      "\n",
      "Financial Statements: (stock_code: 395400, year: 2025, quarter: 1)\n",
      "{'status': '013', 'message': '조회된 데이타가 없습니다.'}\n",
      "\n",
      "Financial Statements: (stock_code: 395400, year: 2024, quarter: 4)\n"
     ]
    },
    {
     "name": "stderr",
     "output_type": "stream",
     "text": [
      "Collect financial statements info (date: 20250725):   4%|████▍                                                                                                             | 113/2879 [00:23<09:57,  4.63it/s]"
     ]
    },
    {
     "name": "stdout",
     "output_type": "stream",
     "text": [
      "\n",
      "Financial Statements: (stock_code: 034730, year: 2025, quarter: 2)\n",
      "\n",
      "Financial Statements: (stock_code: 402340, year: 2025, quarter: 2)\n"
     ]
    },
    {
     "name": "stderr",
     "output_type": "stream",
     "text": [
      "Collect financial statements info (date: 20250725):   4%|████▌                                                                                                             | 114/2879 [00:23<09:35,  4.81it/s]"
     ]
    },
    {
     "name": "stdout",
     "output_type": "stream",
     "text": [
      "\n",
      "Financial Statements: (stock_code: 260870, year: 2025, quarter: 2)\n",
      "{'status': '013', 'message': '조회된 데이타가 없습니다.'}\n",
      "\n",
      "Financial Statements: (stock_code: 260870, year: 2025, quarter: 1)\n",
      "{'status': '013', 'message': '조회된 데이타가 없습니다.'}\n",
      "\n",
      "Financial Statements: (stock_code: 260870, year: 2024, quarter: 4)\n",
      "{'status': '013', 'message': '조회된 데이타가 없습니다.'}\n",
      "No available financial data for 260870\n"
     ]
    },
    {
     "name": "stderr",
     "output_type": "stream",
     "text": [
      "Collect financial statements info (date: 20250725):   4%|████▌                                                                                                             | 116/2879 [00:24<10:35,  4.35it/s]"
     ]
    },
    {
     "name": "stdout",
     "output_type": "stream",
     "text": [
      "\n",
      "Financial Statements: (stock_code: 361610, year: 2025, quarter: 2)\n"
     ]
    },
    {
     "name": "stderr",
     "output_type": "stream",
     "text": [
      "Collect financial statements info (date: 20250725):   4%|████▋                                                                                                             | 117/2879 [00:24<10:02,  4.58it/s]"
     ]
    },
    {
     "name": "stdout",
     "output_type": "stream",
     "text": [
      "\n",
      "Financial Statements: (stock_code: 100090, year: 2025, quarter: 2)\n",
      "\n",
      "Financial Statements: (stock_code: 096775, year: 2025, quarter: 2)\n",
      "\n",
      "Financial Statements: (stock_code: 096775, year: 2025, quarter: 1)\n",
      "\n",
      "Financial Statements: (stock_code: 096775, year: 2024, quarter: 4)\n",
      "No available financial data for 096775\n"
     ]
    },
    {
     "name": "stderr",
     "output_type": "stream",
     "text": [
      "Collect financial statements info (date: 20250725):   4%|████▋                                                                                                             | 119/2879 [00:24<08:55,  5.15it/s]"
     ]
    },
    {
     "name": "stdout",
     "output_type": "stream",
     "text": [
      "\n",
      "Financial Statements: (stock_code: 096770, year: 2025, quarter: 2)\n",
      "\n",
      "Financial Statements: (stock_code: 001515, year: 2025, quarter: 2)\n",
      "\n",
      "Financial Statements: (stock_code: 001515, year: 2025, quarter: 1)\n",
      "\n",
      "Financial Statements: (stock_code: 001515, year: 2024, quarter: 4)\n",
      "No available financial data for 001515\n"
     ]
    },
    {
     "name": "stderr",
     "output_type": "stream",
     "text": [
      "Collect financial statements info (date: 20250725):   4%|████▊                                                                                                             | 121/2879 [00:25<08:40,  5.29it/s]"
     ]
    },
    {
     "name": "stdout",
     "output_type": "stream",
     "text": [
      "\n",
      "Financial Statements: (stock_code: 001510, year: 2025, quarter: 2)\n"
     ]
    },
    {
     "name": "stderr",
     "output_type": "stream",
     "text": [
      "Collect financial statements info (date: 20250725):   4%|████▊                                                                                                             | 122/2879 [00:25<08:10,  5.62it/s]"
     ]
    },
    {
     "name": "stdout",
     "output_type": "stream",
     "text": [
      "\n",
      "Financial Statements: (stock_code: 28513K, year: 2025, quarter: 2)\n",
      "\n",
      "Financial Statements: (stock_code: 28513K, year: 2025, quarter: 1)\n",
      "\n",
      "Financial Statements: (stock_code: 28513K, year: 2024, quarter: 4)\n",
      "No available financial data for 28513K\n",
      "\n",
      "Financial Statements: (stock_code: 285130, year: 2025, quarter: 2)\n"
     ]
    },
    {
     "name": "stderr",
     "output_type": "stream",
     "text": [
      "Collect financial statements info (date: 20250725):   4%|████▉                                                                                                             | 124/2879 [00:25<08:43,  5.26it/s]"
     ]
    },
    {
     "name": "stdout",
     "output_type": "stream",
     "text": [
      "\n",
      "Financial Statements: (stock_code: 017670, year: 2025, quarter: 2)\n",
      "\n",
      "Financial Statements: (stock_code: 003570, year: 2025, quarter: 2)\n"
     ]
    },
    {
     "name": "stderr",
     "output_type": "stream",
     "text": [
      "Collect financial statements info (date: 20250725):   4%|████▉                                                                                                             | 126/2879 [00:26<09:02,  5.08it/s]"
     ]
    },
    {
     "name": "stdout",
     "output_type": "stream",
     "text": [
      "\n",
      "Financial Statements: (stock_code: 064960, year: 2025, quarter: 2)\n",
      "\n",
      "Financial Statements: (stock_code: 100840, year: 2025, quarter: 2)\n"
     ]
    },
    {
     "name": "stderr",
     "output_type": "stream",
     "text": [
      "Collect financial statements info (date: 20250725):   4%|█████                                                                                                             | 128/2879 [00:26<09:01,  5.08it/s]"
     ]
    },
    {
     "name": "stdout",
     "output_type": "stream",
     "text": [
      "\n",
      "Financial Statements: (stock_code: 036530, year: 2025, quarter: 2)\n",
      "\n",
      "Financial Statements: (stock_code: 005610, year: 2025, quarter: 2)\n"
     ]
    },
    {
     "name": "stderr",
     "output_type": "stream",
     "text": [
      "Collect financial statements info (date: 20250725):   5%|█████▏                                                                                                            | 130/2879 [00:27<09:10,  5.00it/s]"
     ]
    },
    {
     "name": "stdout",
     "output_type": "stream",
     "text": [
      "\n",
      "Financial Statements: (stock_code: 465770, year: 2025, quarter: 2)\n",
      "\n",
      "Financial Statements: (stock_code: 011810, year: 2025, quarter: 2)\n"
     ]
    },
    {
     "name": "stderr",
     "output_type": "stream",
     "text": [
      "Collect financial statements info (date: 20250725):   5%|█████▏                                                                                                            | 132/2879 [00:27<09:13,  4.96it/s]"
     ]
    },
    {
     "name": "stdout",
     "output_type": "stream",
     "text": [
      "\n",
      "Financial Statements: (stock_code: 077970, year: 2025, quarter: 2)\n",
      "\n",
      "Financial Statements: (stock_code: 084870, year: 2025, quarter: 2)\n"
     ]
    },
    {
     "name": "stderr",
     "output_type": "stream",
     "text": [
      "Collect financial statements info (date: 20250725):   5%|█████▎                                                                                                            | 134/2879 [00:27<09:07,  5.01it/s]"
     ]
    },
    {
     "name": "stdout",
     "output_type": "stream",
     "text": [
      "\n",
      "Financial Statements: (stock_code: 002710, year: 2025, quarter: 2)\n"
     ]
    },
    {
     "name": "stderr",
     "output_type": "stream",
     "text": [
      "Collect financial statements info (date: 20250725):   5%|█████▎                                                                                                            | 135/2879 [00:28<09:01,  5.06it/s]"
     ]
    },
    {
     "name": "stdout",
     "output_type": "stream",
     "text": [
      "\n",
      "Financial Statements: (stock_code: 024070, year: 2025, quarter: 2)\n",
      "\n",
      "Financial Statements: (stock_code: 079940, year: 2025, quarter: 2)\n"
     ]
    },
    {
     "name": "stderr",
     "output_type": "stream",
     "text": [
      "Collect financial statements info (date: 20250725):   5%|█████▍                                                                                                            | 136/2879 [00:28<09:47,  4.67it/s]"
     ]
    },
    {
     "name": "stdout",
     "output_type": "stream",
     "text": [
      "{'status': '013', 'message': '조회된 데이타가 없습니다.'}\n",
      "\n",
      "Financial Statements: (stock_code: 079940, year: 2025, quarter: 1)\n",
      "\n",
      "Financial Statements: (stock_code: 078890, year: 2025, quarter: 2)\n"
     ]
    },
    {
     "name": "stderr",
     "output_type": "stream",
     "text": [
      "Collect financial statements info (date: 20250725):   5%|█████▍                                                                                                            | 138/2879 [00:28<09:47,  4.67it/s]"
     ]
    },
    {
     "name": "stdout",
     "output_type": "stream",
     "text": [
      "\n",
      "Financial Statements: (stock_code: 000500, year: 2025, quarter: 2)\n"
     ]
    },
    {
     "name": "stderr",
     "output_type": "stream",
     "text": [
      "Collect financial statements info (date: 20250725):   5%|█████▌                                                                                                            | 139/2879 [00:28<09:39,  4.73it/s]"
     ]
    },
    {
     "name": "stdout",
     "output_type": "stream",
     "text": [
      "\n",
      "Financial Statements: (stock_code: 399720, year: 2025, quarter: 2)\n",
      "\n",
      "Financial Statements: (stock_code: 296520, year: 2025, quarter: 2)\n",
      "{'status': '013', 'message': '조회된 데이타가 없습니다.'}\n",
      "\n",
      "Financial Statements: (stock_code: 296520, year: 2025, quarter: 1)\n",
      "{'status': '013', 'message': '조회된 데이타가 없습니다.'}\n",
      "\n",
      "Financial Statements: (stock_code: 296520, year: 2024, quarter: 4)\n",
      "{'status': '013', 'message': '조회된 데이타가 없습니다.'}\n",
      "No available financial data for 296520\n"
     ]
    },
    {
     "name": "stderr",
     "output_type": "stream",
     "text": [
      "Collect financial statements info (date: 20250725):   5%|█████▌                                                                                                            | 141/2879 [00:29<10:20,  4.41it/s]"
     ]
    },
    {
     "name": "stdout",
     "output_type": "stream",
     "text": [
      "\n",
      "Financial Statements: (stock_code: 036620, year: 2025, quarter: 2)\n",
      "\n",
      "Financial Statements: (stock_code: 000860, year: 2025, quarter: 2)\n"
     ]
    },
    {
     "name": "stderr",
     "output_type": "stream",
     "text": [
      "Collect financial statements info (date: 20250725):   5%|█████▋                                                                                                            | 143/2879 [00:29<09:51,  4.63it/s]"
     ]
    },
    {
     "name": "stdout",
     "output_type": "stream",
     "text": [
      "\n",
      "Financial Statements: (stock_code: 198440, year: 2025, quarter: 2)\n",
      "\n",
      "Financial Statements: (stock_code: 217730, year: 2025, quarter: 2)\n"
     ]
    },
    {
     "name": "stderr",
     "output_type": "stream",
     "text": [
      "Collect financial statements info (date: 20250725):   5%|█████▋                                                                                                            | 145/2879 [00:30<09:31,  4.78it/s]"
     ]
    },
    {
     "name": "stdout",
     "output_type": "stream",
     "text": [
      "\n",
      "Financial Statements: (stock_code: 035250, year: 2025, quarter: 2)\n",
      "\n",
      "Financial Statements: (stock_code: 114190, year: 2025, quarter: 2)\n"
     ]
    },
    {
     "name": "stderr",
     "output_type": "stream",
     "text": [
      "Collect financial statements info (date: 20250725):   5%|█████▊                                                                                                            | 147/2879 [00:30<09:18,  4.89it/s]"
     ]
    },
    {
     "name": "stdout",
     "output_type": "stream",
     "text": [
      "\n",
      "Financial Statements: (stock_code: 094480, year: 2025, quarter: 2)\n",
      "\n",
      "Financial Statements: (stock_code: 011420, year: 2025, quarter: 2)\n"
     ]
    },
    {
     "name": "stderr",
     "output_type": "stream",
     "text": [
      "Collect financial statements info (date: 20250725):   5%|█████▉                                                                                                            | 149/2879 [00:31<09:07,  4.99it/s]"
     ]
    },
    {
     "name": "stdout",
     "output_type": "stream",
     "text": [
      "\n",
      "Financial Statements: (stock_code: 039240, year: 2025, quarter: 2)\n",
      "\n",
      "Financial Statements: (stock_code: 053950, year: 2025, quarter: 2)\n"
     ]
    },
    {
     "name": "stderr",
     "output_type": "stream",
     "text": [
      "Collect financial statements info (date: 20250725):   5%|█████▉                                                                                                            | 151/2879 [00:31<09:07,  4.99it/s]"
     ]
    },
    {
     "name": "stdout",
     "output_type": "stream",
     "text": [
      "\n",
      "Financial Statements: (stock_code: 002100, year: 2025, quarter: 2)\n",
      "\n",
      "Financial Statements: (stock_code: 009450, year: 2025, quarter: 2)\n"
     ]
    },
    {
     "name": "stderr",
     "output_type": "stream",
     "text": [
      "Collect financial statements info (date: 20250725):   5%|██████                                                                                                            | 153/2879 [00:31<09:13,  4.92it/s]"
     ]
    },
    {
     "name": "stdout",
     "output_type": "stream",
     "text": [
      "\n",
      "Financial Statements: (stock_code: 267290, year: 2025, quarter: 2)\n",
      "\n",
      "Financial Statements: (stock_code: 012320, year: 2025, quarter: 2)\n"
     ]
    },
    {
     "name": "stderr",
     "output_type": "stream",
     "text": [
      "Collect financial statements info (date: 20250725):   5%|██████                                                                                                            | 154/2879 [00:32<10:00,  4.54it/s]"
     ]
    },
    {
     "name": "stdout",
     "output_type": "stream",
     "text": [
      "{'status': '013', 'message': '조회된 데이타가 없습니다.'}\n",
      "\n",
      "Financial Statements: (stock_code: 012320, year: 2025, quarter: 1)\n"
     ]
    },
    {
     "name": "stderr",
     "output_type": "stream",
     "text": [
      "Collect financial statements info (date: 20250725):   5%|██████▏                                                                                                           | 155/2879 [00:32<09:47,  4.64it/s]"
     ]
    },
    {
     "name": "stdout",
     "output_type": "stream",
     "text": [
      "\n",
      "Financial Statements: (stock_code: 011040, year: 2025, quarter: 2)\n",
      "\n",
      "Financial Statements: (stock_code: 000050, year: 2025, quarter: 2)\n"
     ]
    },
    {
     "name": "stderr",
     "output_type": "stream",
     "text": [
      "Collect financial statements info (date: 20250725):   5%|██████▏                                                                                                           | 156/2879 [00:32<10:45,  4.22it/s]"
     ]
    },
    {
     "name": "stdout",
     "output_type": "stream",
     "text": [
      "{'status': '013', 'message': '조회된 데이타가 없습니다.'}\n",
      "\n",
      "Financial Statements: (stock_code: 000050, year: 2025, quarter: 1)\n"
     ]
    },
    {
     "name": "stderr",
     "output_type": "stream",
     "text": [
      "Collect financial statements info (date: 20250725):   5%|██████▏                                                                                                           | 157/2879 [00:32<10:14,  4.43it/s]"
     ]
    },
    {
     "name": "stdout",
     "output_type": "stream",
     "text": [
      "\n",
      "Financial Statements: (stock_code: 214390, year: 2025, quarter: 2)\n",
      "\n",
      "Financial Statements: (stock_code: 012610, year: 2025, quarter: 2)\n"
     ]
    },
    {
     "name": "stderr",
     "output_type": "stream",
     "text": [
      "Collect financial statements info (date: 20250725):   6%|██████▎                                                                                                           | 159/2879 [00:33<09:45,  4.64it/s]"
     ]
    },
    {
     "name": "stdout",
     "output_type": "stream",
     "text": [
      "\n",
      "Financial Statements: (stock_code: 009140, year: 2025, quarter: 2)\n",
      "\n",
      "Financial Statements: (stock_code: 024910, year: 2025, quarter: 2)\n"
     ]
    },
    {
     "name": "stderr",
     "output_type": "stream",
     "text": [
      "Collect financial statements info (date: 20250725):   6%|██████▍                                                                                                           | 161/2879 [00:33<09:33,  4.74it/s]"
     ]
    },
    {
     "name": "stdout",
     "output_type": "stream",
     "text": [
      "\n",
      "Financial Statements: (stock_code: 013580, year: 2025, quarter: 2)\n",
      "\n",
      "Financial Statements: (stock_code: 012205, year: 2025, quarter: 2)\n"
     ]
    },
    {
     "name": "stderr",
     "output_type": "stream",
     "text": [
      "Collect financial statements info (date: 20250725):   6%|██████▍                                                                                                           | 162/2879 [00:33<08:38,  5.24it/s]"
     ]
    },
    {
     "name": "stdout",
     "output_type": "stream",
     "text": [
      "\n",
      "Financial Statements: (stock_code: 012205, year: 2025, quarter: 1)\n",
      "\n",
      "Financial Statements: (stock_code: 012205, year: 2024, quarter: 4)\n",
      "No available financial data for 012205\n",
      "\n",
      "Financial Statements: (stock_code: 012200, year: 2025, quarter: 2)\n"
     ]
    },
    {
     "name": "stderr",
     "output_type": "stream",
     "text": [
      "Collect financial statements info (date: 20250725):   6%|██████▍                                                                                                           | 164/2879 [00:34<08:44,  5.18it/s]"
     ]
    },
    {
     "name": "stdout",
     "output_type": "stream",
     "text": [
      "\n",
      "Financial Statements: (stock_code: 002140, year: 2025, quarter: 2)\n",
      "\n",
      "Financial Statements: (stock_code: 049720, year: 2025, quarter: 2)\n"
     ]
    },
    {
     "name": "stderr",
     "output_type": "stream",
     "text": [
      "Collect financial statements info (date: 20250725):   6%|██████▌                                                                                                           | 166/2879 [00:34<08:50,  5.11it/s]"
     ]
    },
    {
     "name": "stdout",
     "output_type": "stream",
     "text": [
      "\n",
      "Financial Statements: (stock_code: 010130, year: 2025, quarter: 2)\n",
      "\n",
      "Financial Statements: (stock_code: 002240, year: 2025, quarter: 2)\n"
     ]
    },
    {
     "name": "stderr",
     "output_type": "stream",
     "text": [
      "Collect financial statements info (date: 20250725):   6%|██████▋                                                                                                           | 168/2879 [00:34<09:02,  5.00it/s]"
     ]
    },
    {
     "name": "stdout",
     "output_type": "stream",
     "text": [
      "\n",
      "Financial Statements: (stock_code: 014570, year: 2025, quarter: 2)\n",
      "\n",
      "Financial Statements: (stock_code: 348150, year: 2025, quarter: 2)\n"
     ]
    },
    {
     "name": "stderr",
     "output_type": "stream",
     "text": [
      "Collect financial statements info (date: 20250725):   6%|██████▋                                                                                                           | 170/2879 [00:35<09:05,  4.96it/s]"
     ]
    },
    {
     "name": "stdout",
     "output_type": "stream",
     "text": [
      "\n",
      "Financial Statements: (stock_code: 950190, year: 2025, quarter: 2)\n",
      "\n",
      "Financial Statements: (stock_code: 098460, year: 2025, quarter: 2)\n"
     ]
    },
    {
     "name": "stderr",
     "output_type": "stream",
     "text": [
      "Collect financial statements info (date: 20250725):   6%|██████▊                                                                                                           | 172/2879 [00:35<09:01,  5.00it/s]"
     ]
    },
    {
     "name": "stdout",
     "output_type": "stream",
     "text": [
      "\n",
      "Financial Statements: (stock_code: 035290, year: 2025, quarter: 2)\n",
      "\n",
      "Financial Statements: (stock_code: 215000, year: 2025, quarter: 2)\n"
     ]
    },
    {
     "name": "stderr",
     "output_type": "stream",
     "text": [
      "Collect financial statements info (date: 20250725):   6%|██████▉                                                                                                           | 174/2879 [00:36<09:10,  4.91it/s]"
     ]
    },
    {
     "name": "stdout",
     "output_type": "stream",
     "text": [
      "\n",
      "Financial Statements: (stock_code: 121440, year: 2025, quarter: 2)\n"
     ]
    },
    {
     "name": "stderr",
     "output_type": "stream",
     "text": [
      "Collect financial statements info (date: 20250725):   6%|██████▉                                                                                                           | 175/2879 [00:36<09:09,  4.92it/s]"
     ]
    },
    {
     "name": "stdout",
     "output_type": "stream",
     "text": [
      "\n",
      "Financial Statements: (stock_code: 366030, year: 2025, quarter: 2)\n",
      "\n",
      "Financial Statements: (stock_code: 009290, year: 2025, quarter: 2)\n"
     ]
    },
    {
     "name": "stderr",
     "output_type": "stream",
     "text": [
      "Collect financial statements info (date: 20250725):   6%|██████▉                                                                                                           | 176/2879 [00:36<09:05,  4.95it/s]"
     ]
    },
    {
     "name": "stdout",
     "output_type": "stream",
     "text": [
      "\n",
      "Financial Statements: (stock_code: 086220, year: 2025, quarter: 2)\n",
      "{'status': '013', 'message': '조회된 데이타가 없습니다.'}\n",
      "\n",
      "Financial Statements: (stock_code: 086220, year: 2025, quarter: 1)\n",
      "{'status': '013', 'message': '조회된 데이타가 없습니다.'}\n",
      "\n",
      "Financial Statements: (stock_code: 086220, year: 2024, quarter: 4)\n"
     ]
    },
    {
     "name": "stderr",
     "output_type": "stream",
     "text": [
      "Collect financial statements info (date: 20250725):   6%|███████                                                                                                           | 178/2879 [00:37<09:50,  4.58it/s]"
     ]
    },
    {
     "name": "stdout",
     "output_type": "stream",
     "text": [
      "\n",
      "Financial Statements: (stock_code: 014200, year: 2025, quarter: 2)\n",
      "\n",
      "Financial Statements: (stock_code: 017040, year: 2025, quarter: 2)\n"
     ]
    },
    {
     "name": "stderr",
     "output_type": "stream",
     "text": [
      "Collect financial statements info (date: 20250725):   6%|███████▏                                                                                                          | 180/2879 [00:37<09:10,  4.90it/s]"
     ]
    },
    {
     "name": "stdout",
     "output_type": "stream",
     "text": [
      "\n",
      "Financial Statements: (stock_code: 029480, year: 2025, quarter: 2)\n",
      "\n",
      "Financial Statements: (stock_code: 017900, year: 2025, quarter: 2)\n"
     ]
    },
    {
     "name": "stderr",
     "output_type": "stream",
     "text": [
      "Collect financial statements info (date: 20250725):   6%|███████▏                                                                                                          | 181/2879 [00:37<09:07,  4.92it/s]"
     ]
    },
    {
     "name": "stdout",
     "output_type": "stream",
     "text": [
      "\n",
      "Financial Statements: (stock_code: 037710, year: 2025, quarter: 2)\n",
      "{'status': '013', 'message': '조회된 데이타가 없습니다.'}\n",
      "\n",
      "Financial Statements: (stock_code: 037710, year: 2025, quarter: 1)\n"
     ]
    },
    {
     "name": "stderr",
     "output_type": "stream",
     "text": [
      "Collect financial statements info (date: 20250725):   6%|███████▏                                                                                                          | 183/2879 [00:38<09:33,  4.70it/s]"
     ]
    },
    {
     "name": "stdout",
     "output_type": "stream",
     "text": [
      "\n",
      "Financial Statements: (stock_code: 026910, year: 2025, quarter: 2)\n",
      "\n",
      "Financial Statements: (stock_code: 456490, year: 2025, quarter: 2)\n"
     ]
    },
    {
     "name": "stderr",
     "output_type": "stream",
     "text": [
      "Collect financial statements info (date: 20250725):   6%|███████▎                                                                                                          | 185/2879 [00:38<09:09,  4.90it/s]"
     ]
    },
    {
     "name": "stdout",
     "output_type": "stream",
     "text": [
      "\n",
      "Financial Statements: (stock_code: 465320, year: 2025, quarter: 2)\n",
      "\n",
      "Financial Statements: (stock_code: 482520, year: 2025, quarter: 2)\n"
     ]
    },
    {
     "name": "stderr",
     "output_type": "stream",
     "text": [
      "Collect financial statements info (date: 20250725):   6%|███████▍                                                                                                          | 187/2879 [00:38<08:57,  5.01it/s]"
     ]
    },
    {
     "name": "stdout",
     "output_type": "stream",
     "text": [
      "\n",
      "Financial Statements: (stock_code: 489210, year: 2025, quarter: 2)\n",
      "\n",
      "Financial Statements: (stock_code: 0041B0, year: 2025, quarter: 2)\n",
      "\n",
      "Financial Statements: (stock_code: 0041B0, year: 2025, quarter: 1)\n",
      "\n",
      "Financial Statements: (stock_code: 0041B0, year: 2024, quarter: 4)\n",
      "No available financial data for 0041B0\n"
     ]
    },
    {
     "name": "stderr",
     "output_type": "stream",
     "text": [
      "Collect financial statements info (date: 20250725):   7%|███████▍                                                                                                          | 189/2879 [00:39<08:21,  5.37it/s]"
     ]
    },
    {
     "name": "stdout",
     "output_type": "stream",
     "text": [
      "\n",
      "Financial Statements: (stock_code: 030610, year: 2025, quarter: 2)\n",
      "\n",
      "Financial Statements: (stock_code: 339770, year: 2025, quarter: 2)\n"
     ]
    },
    {
     "name": "stderr",
     "output_type": "stream",
     "text": [
      "Collect financial statements info (date: 20250725):   7%|███████▌                                                                                                          | 191/2879 [00:39<09:26,  4.75it/s]"
     ]
    },
    {
     "name": "stdout",
     "output_type": "stream",
     "text": [
      "\n",
      "Financial Statements: (stock_code: 053270, year: 2025, quarter: 2)\n",
      "\n",
      "Financial Statements: (stock_code: 007690, year: 2025, quarter: 2)\n"
     ]
    },
    {
     "name": "stderr",
     "output_type": "stream",
     "text": [
      "Collect financial statements info (date: 20250725):   7%|███████▌                                                                                                          | 192/2879 [00:39<10:03,  4.45it/s]"
     ]
    },
    {
     "name": "stdout",
     "output_type": "stream",
     "text": [
      "{'status': '013', 'message': '조회된 데이타가 없습니다.'}\n",
      "\n",
      "Financial Statements: (stock_code: 007690, year: 2025, quarter: 1)\n",
      "\n",
      "Financial Statements: (stock_code: 066620, year: 2025, quarter: 2)\n"
     ]
    },
    {
     "name": "stderr",
     "output_type": "stream",
     "text": [
      "Collect financial statements info (date: 20250725):   7%|███████▋                                                                                                          | 194/2879 [00:40<09:27,  4.73it/s]"
     ]
    },
    {
     "name": "stdout",
     "output_type": "stream",
     "text": [
      "\n",
      "Financial Statements: (stock_code: 001140, year: 2025, quarter: 2)\n",
      "\n",
      "Financial Statements: (stock_code: 043650, year: 2025, quarter: 2)\n"
     ]
    },
    {
     "name": "stderr",
     "output_type": "stream",
     "text": [
      "Collect financial statements info (date: 20250725):   7%|███████▊                                                                                                          | 196/2879 [00:40<09:04,  4.93it/s]"
     ]
    },
    {
     "name": "stdout",
     "output_type": "stream",
     "text": [
      "\n",
      "Financial Statements: (stock_code: 006050, year: 2025, quarter: 2)\n",
      "\n",
      "Financial Statements: (stock_code: 060480, year: 2025, quarter: 2)\n"
     ]
    },
    {
     "name": "stderr",
     "output_type": "stream",
     "text": [
      "Collect financial statements info (date: 20250725):   7%|███████▊                                                                                                          | 198/2879 [00:41<09:12,  4.85it/s]"
     ]
    },
    {
     "name": "stdout",
     "output_type": "stream",
     "text": [
      "\n",
      "Financial Statements: (stock_code: 078130, year: 2025, quarter: 2)\n",
      "\n",
      "Financial Statements: (stock_code: 307750, year: 2025, quarter: 2)\n"
     ]
    },
    {
     "name": "stderr",
     "output_type": "stream",
     "text": [
      "Collect financial statements info (date: 20250725):   7%|███████▉                                                                                                          | 199/2879 [00:41<09:52,  4.52it/s]"
     ]
    },
    {
     "name": "stdout",
     "output_type": "stream",
     "text": [
      "{'status': '013', 'message': '조회된 데이타가 없습니다.'}\n",
      "\n",
      "Financial Statements: (stock_code: 307750, year: 2025, quarter: 1)\n",
      "\n",
      "Financial Statements: (stock_code: 002720, year: 2025, quarter: 2)\n"
     ]
    },
    {
     "name": "stderr",
     "output_type": "stream",
     "text": [
      "Collect financial statements info (date: 20250725):   7%|███████▉                                                                                                          | 201/2879 [00:41<09:13,  4.84it/s]"
     ]
    },
    {
     "name": "stdout",
     "output_type": "stream",
     "text": [
      "\n",
      "Financial Statements: (stock_code: 035080, year: 2025, quarter: 2)\n",
      "\n",
      "Financial Statements: (stock_code: 114090, year: 2025, quarter: 2)\n"
     ]
    },
    {
     "name": "stderr",
     "output_type": "stream",
     "text": [
      "Collect financial statements info (date: 20250725):   7%|███████▉                                                                                                          | 202/2879 [00:42<09:12,  4.85it/s]"
     ]
    },
    {
     "name": "stdout",
     "output_type": "stream",
     "text": [
      "\n",
      "Financial Statements: (stock_code: 900290, year: 2025, quarter: 2)\n",
      "{'status': '013', 'message': '조회된 데이타가 없습니다.'}\n",
      "\n",
      "Financial Statements: (stock_code: 900290, year: 2025, quarter: 1)\n",
      "{'status': '013', 'message': '조회된 데이타가 없습니다.'}\n",
      "\n",
      "Financial Statements: (stock_code: 900290, year: 2024, quarter: 4)\n"
     ]
    },
    {
     "name": "stderr",
     "output_type": "stream",
     "text": [
      "Collect financial statements info (date: 20250725):   7%|████████                                                                                                          | 204/2879 [00:42<10:24,  4.28it/s]"
     ]
    },
    {
     "name": "stdout",
     "output_type": "stream",
     "text": [
      "\n",
      "Financial Statements: (stock_code: 453450, year: 2025, quarter: 2)\n",
      "\n",
      "Financial Statements: (stock_code: 204020, year: 2025, quarter: 2)\n"
     ]
    },
    {
     "name": "stderr",
     "output_type": "stream",
     "text": [
      "Collect financial statements info (date: 20250725):   7%|████████▏                                                                                                         | 206/2879 [00:42<09:34,  4.65it/s]"
     ]
    },
    {
     "name": "stdout",
     "output_type": "stream",
     "text": [
      "\n",
      "Financial Statements: (stock_code: 402490, year: 2025, quarter: 2)\n",
      "\n",
      "Financial Statements: (stock_code: 114450, year: 2025, quarter: 2)\n"
     ]
    },
    {
     "name": "stderr",
     "output_type": "stream",
     "text": [
      "Collect financial statements info (date: 20250725):   7%|████████▏                                                                                                         | 208/2879 [00:43<09:09,  4.86it/s]"
     ]
    },
    {
     "name": "stdout",
     "output_type": "stream",
     "text": [
      "\n",
      "Financial Statements: (stock_code: 083420, year: 2025, quarter: 2)\n",
      "\n",
      "Financial Statements: (stock_code: 186230, year: 2025, quarter: 2)\n"
     ]
    },
    {
     "name": "stderr",
     "output_type": "stream",
     "text": [
      "Collect financial statements info (date: 20250725):   7%|████████▎                                                                                                         | 210/2879 [00:43<08:59,  4.95it/s]"
     ]
    },
    {
     "name": "stdout",
     "output_type": "stream",
     "text": [
      "\n",
      "Financial Statements: (stock_code: 014530, year: 2025, quarter: 2)\n",
      "\n",
      "Financial Statements: (stock_code: 083450, year: 2025, quarter: 2)\n"
     ]
    },
    {
     "name": "stderr",
     "output_type": "stream",
     "text": [
      "Collect financial statements info (date: 20250725):   7%|████████▎                                                                                                         | 211/2879 [00:43<08:57,  4.96it/s]"
     ]
    },
    {
     "name": "stdout",
     "output_type": "stream",
     "text": [
      "\n",
      "Financial Statements: (stock_code: 900070, year: 2025, quarter: 2)\n",
      "{'status': '013', 'message': '조회된 데이타가 없습니다.'}\n",
      "\n",
      "Financial Statements: (stock_code: 900070, year: 2025, quarter: 1)\n"
     ]
    },
    {
     "name": "stderr",
     "output_type": "stream",
     "text": [
      "Collect financial statements info (date: 20250725):   7%|████████▍                                                                                                         | 213/2879 [00:44<09:08,  4.86it/s]"
     ]
    },
    {
     "name": "stdout",
     "output_type": "stream",
     "text": [
      "\n",
      "Financial Statements: (stock_code: 204620, year: 2025, quarter: 2)\n",
      "\n",
      "Financial Statements: (stock_code: 019660, year: 2025, quarter: 2)\n"
     ]
    },
    {
     "name": "stderr",
     "output_type": "stream",
     "text": [
      "Collect financial statements info (date: 20250725):   7%|████████▌                                                                                                         | 215/2879 [00:44<08:05,  5.49it/s]"
     ]
    },
    {
     "name": "stdout",
     "output_type": "stream",
     "text": [
      "\n",
      "Financial Statements: (stock_code: 014285, year: 2025, quarter: 2)\n",
      "\n",
      "Financial Statements: (stock_code: 014285, year: 2025, quarter: 1)\n",
      "\n",
      "Financial Statements: (stock_code: 014285, year: 2024, quarter: 4)\n",
      "No available financial data for 014285\n",
      "\n",
      "Financial Statements: (stock_code: 014280, year: 2025, quarter: 2)\n"
     ]
    },
    {
     "name": "stderr",
     "output_type": "stream",
     "text": [
      "Collect financial statements info (date: 20250725):   8%|████████▌                                                                                                         | 217/2879 [00:45<08:29,  5.22it/s]"
     ]
    },
    {
     "name": "stdout",
     "output_type": "stream",
     "text": [
      "\n",
      "Financial Statements: (stock_code: 053260, year: 2025, quarter: 2)\n"
     ]
    },
    {
     "name": "stderr",
     "output_type": "stream",
     "text": [
      "Collect financial statements info (date: 20250725):   8%|████████▋                                                                                                         | 218/2879 [00:45<08:29,  5.22it/s]"
     ]
    },
    {
     "name": "stdout",
     "output_type": "stream",
     "text": [
      "\n",
      "Financial Statements: (stock_code: 008870, year: 2025, quarter: 2)\n",
      "\n",
      "Financial Statements: (stock_code: 282720, year: 2025, quarter: 2)\n"
     ]
    },
    {
     "name": "stderr",
     "output_type": "stream",
     "text": [
      "Collect financial statements info (date: 20250725):   8%|████████▋                                                                                                         | 220/2879 [00:45<08:44,  5.07it/s]"
     ]
    },
    {
     "name": "stdout",
     "output_type": "stream",
     "text": [
      "\n",
      "Financial Statements: (stock_code: 001570, year: 2025, quarter: 2)\n",
      "\n",
      "Financial Statements: (stock_code: 002995, year: 2025, quarter: 2)\n"
     ]
    },
    {
     "name": "stderr",
     "output_type": "stream",
     "text": [
      "Collect financial statements info (date: 20250725):   8%|████████▊                                                                                                         | 221/2879 [00:45<07:55,  5.59it/s]"
     ]
    },
    {
     "name": "stdout",
     "output_type": "stream",
     "text": [
      "\n",
      "Financial Statements: (stock_code: 002995, year: 2025, quarter: 1)\n",
      "\n",
      "Financial Statements: (stock_code: 002995, year: 2024, quarter: 4)\n",
      "No available financial data for 002995\n",
      "\n",
      "Financial Statements: (stock_code: 002990, year: 2025, quarter: 2)\n"
     ]
    },
    {
     "name": "stderr",
     "output_type": "stream",
     "text": [
      "Collect financial statements info (date: 20250725):   8%|████████▊                                                                                                         | 223/2879 [00:46<07:38,  5.79it/s]"
     ]
    },
    {
     "name": "stdout",
     "output_type": "stream",
     "text": [
      "\n",
      "Financial Statements: (stock_code: 011785, year: 2025, quarter: 2)\n",
      "\n",
      "Financial Statements: (stock_code: 011785, year: 2025, quarter: 1)\n",
      "\n",
      "Financial Statements: (stock_code: 011785, year: 2024, quarter: 4)\n",
      "No available financial data for 011785\n",
      "\n",
      "Financial Statements: (stock_code: 011780, year: 2025, quarter: 2)\n"
     ]
    },
    {
     "name": "stderr",
     "output_type": "stream",
     "text": [
      "Collect financial statements info (date: 20250725):   8%|████████▉                                                                                                         | 225/2879 [00:46<09:29,  4.66it/s]"
     ]
    },
    {
     "name": "stdout",
     "output_type": "stream",
     "text": [
      "\n",
      "Financial Statements: (stock_code: 214330, year: 2025, quarter: 2)\n",
      "\n",
      "Financial Statements: (stock_code: 001210, year: 2025, quarter: 2)\n"
     ]
    },
    {
     "name": "stderr",
     "output_type": "stream",
     "text": [
      "Collect financial statements info (date: 20250725):   8%|████████▉                                                                                                         | 227/2879 [00:47<08:55,  4.95it/s]"
     ]
    },
    {
     "name": "stdout",
     "output_type": "stream",
     "text": [
      "\n",
      "Financial Statements: (stock_code: 073240, year: 2025, quarter: 2)\n",
      "\n",
      "Financial Statements: (stock_code: 036190, year: 2025, quarter: 2)\n"
     ]
    },
    {
     "name": "stderr",
     "output_type": "stream",
     "text": [
      "Collect financial statements info (date: 20250725):   8%|█████████                                                                                                         | 229/2879 [00:47<09:17,  4.75it/s]"
     ]
    },
    {
     "name": "stdout",
     "output_type": "stream",
     "text": [
      "\n",
      "Financial Statements: (stock_code: 049080, year: 2025, quarter: 2)\n"
     ]
    },
    {
     "name": "stderr",
     "output_type": "stream",
     "text": [
      "Collect financial statements info (date: 20250725):   8%|█████████                                                                                                         | 230/2879 [00:47<09:04,  4.87it/s]"
     ]
    },
    {
     "name": "stdout",
     "output_type": "stream",
     "text": [
      "\n",
      "Financial Statements: (stock_code: 420770, year: 2025, quarter: 2)\n",
      "\n",
      "Financial Statements: (stock_code: 035460, year: 2025, quarter: 2)\n"
     ]
    },
    {
     "name": "stderr",
     "output_type": "stream",
     "text": [
      "Collect financial statements info (date: 20250725):   8%|█████████▏                                                                                                        | 231/2879 [00:47<08:57,  4.92it/s]"
     ]
    },
    {
     "name": "stdout",
     "output_type": "stream",
     "text": [
      "\n",
      "Financial Statements: (stock_code: 092440, year: 2025, quarter: 2)\n",
      "{'status': '013', 'message': '조회된 데이타가 없습니다.'}\n",
      "\n",
      "Financial Statements: (stock_code: 092440, year: 2025, quarter: 1)\n"
     ]
    },
    {
     "name": "stderr",
     "output_type": "stream",
     "text": [
      "Collect financial statements info (date: 20250725):   8%|█████████▏                                                                                                        | 233/2879 [00:48<09:20,  4.72it/s]"
     ]
    },
    {
     "name": "stdout",
     "output_type": "stream",
     "text": [
      "\n",
      "Financial Statements: (stock_code: 000270, year: 2025, quarter: 2)\n",
      "\n",
      "Financial Statements: (stock_code: 456700, year: 2025, quarter: 2)\n",
      "{'status': '013', 'message': '조회된 데이타가 없습니다.'}\n",
      "\n",
      "Financial Statements: (stock_code: 456700, year: 2025, quarter: 1)\n",
      "{'status': '013', 'message': '조회된 데이타가 없습니다.'}\n",
      "\n",
      "Financial Statements: (stock_code: 456700, year: 2024, quarter: 4)\n",
      "{'status': '013', 'message': '조회된 데이타가 없습니다.'}\n",
      "No available financial data for 456700\n"
     ]
    },
    {
     "name": "stderr",
     "output_type": "stream",
     "text": [
      "Collect financial statements info (date: 20250725):   8%|█████████▎                                                                                                        | 235/2879 [00:48<10:03,  4.38it/s]"
     ]
    },
    {
     "name": "stdout",
     "output_type": "stream",
     "text": [
      "\n",
      "Financial Statements: (stock_code: 013700, year: 2025, quarter: 2)\n",
      "\n",
      "Financial Statements: (stock_code: 004545, year: 2025, quarter: 2)\n"
     ]
    },
    {
     "name": "stderr",
     "output_type": "stream",
     "text": [
      "Collect financial statements info (date: 20250725):   8%|█████████▎                                                                                                        | 236/2879 [00:49<08:51,  4.98it/s]"
     ]
    },
    {
     "name": "stdout",
     "output_type": "stream",
     "text": [
      "\n",
      "Financial Statements: (stock_code: 004545, year: 2025, quarter: 1)\n",
      "\n",
      "Financial Statements: (stock_code: 004545, year: 2024, quarter: 4)\n",
      "No available financial data for 004545\n",
      "\n",
      "Financial Statements: (stock_code: 004540, year: 2025, quarter: 2)\n"
     ]
    },
    {
     "name": "stderr",
     "output_type": "stream",
     "text": [
      "Collect financial statements info (date: 20250725):   8%|█████████▍                                                                                                        | 238/2879 [00:49<08:50,  4.98it/s]"
     ]
    },
    {
     "name": "stdout",
     "output_type": "stream",
     "text": [
      "\n",
      "Financial Statements: (stock_code: 407400, year: 2025, quarter: 2)\n",
      "\n",
      "Financial Statements: (stock_code: 187790, year: 2025, quarter: 2)\n"
     ]
    },
    {
     "name": "stderr",
     "output_type": "stream",
     "text": [
      "Collect financial statements info (date: 20250725):   8%|█████████▌                                                                                                        | 240/2879 [00:49<08:55,  4.92it/s]"
     ]
    },
    {
     "name": "stdout",
     "output_type": "stream",
     "text": [
      "\n",
      "Financial Statements: (stock_code: 121600, year: 2025, quarter: 2)\n"
     ]
    },
    {
     "name": "stderr",
     "output_type": "stream",
     "text": [
      "Collect financial statements info (date: 20250725):   8%|█████████▌                                                                                                        | 241/2879 [00:50<08:56,  4.91it/s]"
     ]
    },
    {
     "name": "stdout",
     "output_type": "stream",
     "text": [
      "\n",
      "Financial Statements: (stock_code: 286750, year: 2025, quarter: 2)\n",
      "\n",
      "Financial Statements: (stock_code: 247660, year: 2025, quarter: 2)\n"
     ]
    },
    {
     "name": "stderr",
     "output_type": "stream",
     "text": [
      "Collect financial statements info (date: 20250725):   8%|█████████▌                                                                                                        | 242/2879 [00:50<08:55,  4.92it/s]"
     ]
    },
    {
     "name": "stdout",
     "output_type": "stream",
     "text": [
      "\n",
      "Financial Statements: (stock_code: 039860, year: 2025, quarter: 2)\n",
      "{'status': '013', 'message': '조회된 데이타가 없습니다.'}\n",
      "\n",
      "Financial Statements: (stock_code: 039860, year: 2025, quarter: 1)\n"
     ]
    },
    {
     "name": "stderr",
     "output_type": "stream",
     "text": [
      "Collect financial statements info (date: 20250725):   8%|█████████▋                                                                                                        | 244/2879 [00:50<09:26,  4.65it/s]"
     ]
    },
    {
     "name": "stdout",
     "output_type": "stream",
     "text": [
      "\n",
      "Financial Statements: (stock_code: 091970, year: 2025, quarter: 2)\n",
      "\n",
      "Financial Statements: (stock_code: 417010, year: 2025, quarter: 2)\n"
     ]
    },
    {
     "name": "stderr",
     "output_type": "stream",
     "text": [
      "Collect financial statements info (date: 20250725):   9%|█████████▋                                                                                                        | 245/2879 [00:50<09:15,  4.74it/s]"
     ]
    },
    {
     "name": "stdout",
     "output_type": "stream",
     "text": [
      "\n",
      "Financial Statements: (stock_code: 244880, year: 2025, quarter: 2)\n",
      "{'status': '013', 'message': '조회된 데이타가 없습니다.'}\n",
      "\n",
      "Financial Statements: (stock_code: 244880, year: 2025, quarter: 1)\n",
      "{'status': '013', 'message': '조회된 데이타가 없습니다.'}\n",
      "\n",
      "Financial Statements: (stock_code: 244880, year: 2024, quarter: 4)\n",
      "{'status': '013', 'message': '조회된 데이타가 없습니다.'}\n",
      "No available financial data for 244880\n"
     ]
    },
    {
     "name": "stderr",
     "output_type": "stream",
     "text": [
      "Collect financial statements info (date: 20250725):   9%|█████████▊                                                                                                        | 247/2879 [00:51<10:04,  4.36it/s]"
     ]
    },
    {
     "name": "stdout",
     "output_type": "stream",
     "text": [
      "\n",
      "Financial Statements: (stock_code: 405920, year: 2025, quarter: 2)\n",
      "\n",
      "Financial Statements: (stock_code: 288490, year: 2025, quarter: 2)\n",
      "{'status': '013', 'message': '조회된 데이타가 없습니다.'}\n",
      "\n",
      "Financial Statements: (stock_code: 288490, year: 2025, quarter: 1)\n",
      "{'status': '013', 'message': '조회된 데이타가 없습니다.'}\n",
      "\n",
      "Financial Statements: (stock_code: 288490, year: 2024, quarter: 4)\n",
      "{'status': '013', 'message': '조회된 데이타가 없습니다.'}\n",
      "No available financial data for 288490\n"
     ]
    },
    {
     "name": "stderr",
     "output_type": "stream",
     "text": [
      "Collect financial statements info (date: 20250725):   9%|█████████▊                                                                                                        | 249/2879 [00:51<10:17,  4.26it/s]"
     ]
    },
    {
     "name": "stdout",
     "output_type": "stream",
     "text": [
      "\n",
      "Financial Statements: (stock_code: 051490, year: 2025, quarter: 2)\n"
     ]
    },
    {
     "name": "stderr",
     "output_type": "stream",
     "text": [
      "Collect financial statements info (date: 20250725):   9%|█████████▉                                                                                                        | 250/2879 [00:52<09:59,  4.38it/s]"
     ]
    },
    {
     "name": "stdout",
     "output_type": "stream",
     "text": [
      "\n",
      "Financial Statements: (stock_code: 137080, year: 2025, quarter: 2)\n"
     ]
    },
    {
     "name": "stderr",
     "output_type": "stream",
     "text": [
      "Collect financial statements info (date: 20250725):   9%|█████████▉                                                                                                        | 251/2879 [00:52<09:30,  4.60it/s]"
     ]
    },
    {
     "name": "stdout",
     "output_type": "stream",
     "text": [
      "\n",
      "Financial Statements: (stock_code: 190510, year: 2025, quarter: 2)\n",
      "\n",
      "Financial Statements: (stock_code: 242040, year: 2025, quarter: 2)\n"
     ]
    },
    {
     "name": "stderr",
     "output_type": "stream",
     "text": [
      "Collect financial statements info (date: 20250725):   9%|██████████                                                                                                        | 253/2879 [00:52<09:03,  4.83it/s]"
     ]
    },
    {
     "name": "stdout",
     "output_type": "stream",
     "text": [
      "\n",
      "Financial Statements: (stock_code: 459510, year: 2025, quarter: 2)\n",
      "\n",
      "Financial Statements: (stock_code: 293580, year: 2025, quarter: 2)\n"
     ]
    },
    {
     "name": "stderr",
     "output_type": "stream",
     "text": [
      "Collect financial statements info (date: 20250725):   9%|██████████                                                                                                        | 254/2879 [00:52<08:54,  4.91it/s]"
     ]
    },
    {
     "name": "stdout",
     "output_type": "stream",
     "text": [
      "\n",
      "Financial Statements: (stock_code: 257990, year: 2025, quarter: 2)\n",
      "{'status': '013', 'message': '조회된 데이타가 없습니다.'}\n",
      "\n",
      "Financial Statements: (stock_code: 257990, year: 2025, quarter: 1)\n",
      "{'status': '013', 'message': '조회된 데이타가 없습니다.'}\n",
      "\n",
      "Financial Statements: (stock_code: 257990, year: 2024, quarter: 4)\n"
     ]
    },
    {
     "name": "stderr",
     "output_type": "stream",
     "text": [
      "Collect financial statements info (date: 20250725):   9%|██████████▏                                                                                                       | 256/2879 [00:53<10:02,  4.35it/s]"
     ]
    },
    {
     "name": "stdout",
     "output_type": "stream",
     "text": [
      "\n",
      "Financial Statements: (stock_code: 138610, year: 2025, quarter: 2)\n",
      "\n",
      "Financial Statements: (stock_code: 130580, year: 2025, quarter: 2)\n"
     ]
    },
    {
     "name": "stderr",
     "output_type": "stream",
     "text": [
      "Collect financial statements info (date: 20250725):   9%|██████████▏                                                                                                       | 258/2879 [00:53<09:15,  4.71it/s]"
     ]
    },
    {
     "name": "stdout",
     "output_type": "stream",
     "text": [
      "\n",
      "Financial Statements: (stock_code: 036800, year: 2025, quarter: 2)\n",
      "\n",
      "Financial Statements: (stock_code: 030190, year: 2025, quarter: 2)\n"
     ]
    },
    {
     "name": "stderr",
     "output_type": "stream",
     "text": [
      "Collect financial statements info (date: 20250725):   9%|██████████▎                                                                                                       | 260/2879 [00:54<09:07,  4.78it/s]"
     ]
    },
    {
     "name": "stdout",
     "output_type": "stream",
     "text": [
      "\n",
      "Financial Statements: (stock_code: 267320, year: 2025, quarter: 2)\n",
      "\n",
      "Financial Statements: (stock_code: 001260, year: 2025, quarter: 2)\n"
     ]
    },
    {
     "name": "stderr",
     "output_type": "stream",
     "text": [
      "Collect financial statements info (date: 20250725):   9%|██████████▎                                                                                                       | 262/2879 [00:54<08:16,  5.27it/s]"
     ]
    },
    {
     "name": "stdout",
     "output_type": "stream",
     "text": [
      "\n",
      "Financial Statements: (stock_code: 008355, year: 2025, quarter: 2)\n",
      "\n",
      "Financial Statements: (stock_code: 008355, year: 2025, quarter: 1)\n",
      "\n",
      "Financial Statements: (stock_code: 008355, year: 2024, quarter: 4)\n",
      "No available financial data for 008355\n",
      "\n",
      "Financial Statements: (stock_code: 008350, year: 2025, quarter: 2)\n"
     ]
    },
    {
     "name": "stderr",
     "output_type": "stream",
     "text": [
      "Collect financial statements info (date: 20250725):   9%|██████████▍                                                                                                       | 264/2879 [00:54<08:23,  5.19it/s]"
     ]
    },
    {
     "name": "stdout",
     "output_type": "stream",
     "text": [
      "\n",
      "Financial Statements: (stock_code: 004270, year: 2025, quarter: 2)\n",
      "\n",
      "Financial Statements: (stock_code: 003925, year: 2025, quarter: 2)\n",
      "\n",
      "Financial Statements: (stock_code: 003925, year: 2025, quarter: 1)\n",
      "\n",
      "Financial Statements: (stock_code: 003925, year: 2024, quarter: 4)\n"
     ]
    },
    {
     "name": "stderr",
     "output_type": "stream",
     "text": [
      "Collect financial statements info (date: 20250725):   9%|██████████▍                                                                                                       | 265/2879 [00:55<07:42,  5.65it/s]"
     ]
    },
    {
     "name": "stdout",
     "output_type": "stream",
     "text": [
      "No available financial data for 003925\n",
      "\n",
      "Financial Statements: (stock_code: 003920, year: 2025, quarter: 2)\n"
     ]
    },
    {
     "name": "stderr",
     "output_type": "stream",
     "text": [
      "Collect financial statements info (date: 20250725):   9%|██████████▌                                                                                                       | 267/2879 [00:55<08:28,  5.13it/s]"
     ]
    },
    {
     "name": "stdout",
     "output_type": "stream",
     "text": [
      "\n",
      "Financial Statements: (stock_code: 025860, year: 2025, quarter: 2)\n"
     ]
    },
    {
     "name": "stderr",
     "output_type": "stream",
     "text": [
      "Collect financial statements info (date: 20250725):   9%|██████████▌                                                                                                       | 268/2879 [00:55<08:24,  5.18it/s]"
     ]
    },
    {
     "name": "stdout",
     "output_type": "stream",
     "text": [
      "\n",
      "Financial Statements: (stock_code: 111710, year: 2025, quarter: 2)\n",
      "\n",
      "Financial Statements: (stock_code: 091590, year: 2025, quarter: 2)\n"
     ]
    },
    {
     "name": "stderr",
     "output_type": "stream",
     "text": [
      "Collect financial statements info (date: 20250725):   9%|██████████▋                                                                                                       | 270/2879 [00:56<08:26,  5.15it/s]"
     ]
    },
    {
     "name": "stdout",
     "output_type": "stream",
     "text": [
      "\n",
      "Financial Statements: (stock_code: 168330, year: 2025, quarter: 2)\n",
      "\n",
      "Financial Statements: (stock_code: 094860, year: 2025, quarter: 2)\n"
     ]
    },
    {
     "name": "stderr",
     "output_type": "stream",
     "text": [
      "Collect financial statements info (date: 20250725):   9%|██████████▋                                                                                                       | 271/2879 [00:56<08:35,  5.06it/s]"
     ]
    },
    {
     "name": "stdout",
     "output_type": "stream",
     "text": [
      "\n",
      "Financial Statements: (stock_code: 253590, year: 2025, quarter: 2)\n",
      "{'status': '013', 'message': '조회된 데이타가 없습니다.'}\n",
      "\n",
      "Financial Statements: (stock_code: 253590, year: 2025, quarter: 1)\n"
     ]
    },
    {
     "name": "stderr",
     "output_type": "stream",
     "text": [
      "Collect financial statements info (date: 20250725):   9%|██████████▊                                                                                                       | 273/2879 [00:56<08:56,  4.86it/s]"
     ]
    },
    {
     "name": "stdout",
     "output_type": "stream",
     "text": [
      "\n",
      "Financial Statements: (stock_code: 212560, year: 2025, quarter: 2)\n",
      "\n",
      "Financial Statements: (stock_code: 095660, year: 2025, quarter: 2)\n"
     ]
    },
    {
     "name": "stderr",
     "output_type": "stream",
     "text": [
      "Collect financial statements info (date: 20250725):  10%|██████████▉                                                                                                       | 275/2879 [00:57<08:50,  4.91it/s]"
     ]
    },
    {
     "name": "stdout",
     "output_type": "stream",
     "text": [
      "\n",
      "Financial Statements: (stock_code: 042420, year: 2025, quarter: 2)\n",
      "\n",
      "Financial Statements: (stock_code: 950220, year: 2025, quarter: 2)\n"
     ]
    },
    {
     "name": "stderr",
     "output_type": "stream",
     "text": [
      "Collect financial statements info (date: 20250725):  10%|██████████▉                                                                                                       | 277/2879 [00:57<08:49,  4.92it/s]"
     ]
    },
    {
     "name": "stdout",
     "output_type": "stream",
     "text": [
      "\n",
      "Financial Statements: (stock_code: 311390, year: 2025, quarter: 2)\n"
     ]
    },
    {
     "name": "stderr",
     "output_type": "stream",
     "text": [
      "Collect financial statements info (date: 20250725):  10%|███████████                                                                                                       | 278/2879 [00:57<08:38,  5.01it/s]"
     ]
    },
    {
     "name": "stdout",
     "output_type": "stream",
     "text": [
      "\n",
      "Financial Statements: (stock_code: 085910, year: 2025, quarter: 2)\n",
      "\n",
      "Financial Statements: (stock_code: 092730, year: 2025, quarter: 2)\n"
     ]
    },
    {
     "name": "stderr",
     "output_type": "stream",
     "text": [
      "Collect financial statements info (date: 20250725):  10%|███████████                                                                                                       | 280/2879 [00:58<08:28,  5.11it/s]"
     ]
    },
    {
     "name": "stdout",
     "output_type": "stream",
     "text": [
      "\n",
      "Financial Statements: (stock_code: 290660, year: 2025, quarter: 2)\n",
      "\n",
      "Financial Statements: (stock_code: 306620, year: 2025, quarter: 2)\n"
     ]
    },
    {
     "name": "stderr",
     "output_type": "stream",
     "text": [
      "Collect financial statements info (date: 20250725):  10%|███████████▏                                                                                                      | 282/2879 [00:58<08:37,  5.01it/s]"
     ]
    },
    {
     "name": "stdout",
     "output_type": "stream",
     "text": [
      "\n",
      "Financial Statements: (stock_code: 153460, year: 2025, quarter: 2)\n",
      "\n",
      "Financial Statements: (stock_code: 007390, year: 2025, quarter: 2)\n"
     ]
    },
    {
     "name": "stderr",
     "output_type": "stream",
     "text": [
      "Collect financial statements info (date: 20250725):  10%|███████████▏                                                                                                      | 284/2879 [00:58<08:36,  5.02it/s]"
     ]
    },
    {
     "name": "stdout",
     "output_type": "stream",
     "text": [
      "\n",
      "Financial Statements: (stock_code: 033640, year: 2025, quarter: 2)\n",
      "\n",
      "Financial Statements: (stock_code: 330860, year: 2025, quarter: 2)\n"
     ]
    },
    {
     "name": "stderr",
     "output_type": "stream",
     "text": [
      "Collect financial statements info (date: 20250725):  10%|███████████▎                                                                                                      | 286/2879 [00:59<08:48,  4.91it/s]"
     ]
    },
    {
     "name": "stdout",
     "output_type": "stream",
     "text": [
      "\n",
      "Financial Statements: (stock_code: 351320, year: 2025, quarter: 2)\n"
     ]
    },
    {
     "name": "stderr",
     "output_type": "stream",
     "text": [
      "Collect financial statements info (date: 20250725):  10%|███████████▎                                                                                                      | 287/2879 [00:59<07:56,  5.44it/s]"
     ]
    },
    {
     "name": "stdout",
     "output_type": "stream",
     "text": [
      "\n",
      "Financial Statements: (stock_code: 005725, year: 2025, quarter: 2)\n",
      "\n",
      "Financial Statements: (stock_code: 005725, year: 2025, quarter: 1)\n",
      "\n",
      "Financial Statements: (stock_code: 005725, year: 2024, quarter: 4)\n",
      "No available financial data for 005725\n",
      "\n",
      "Financial Statements: (stock_code: 005720, year: 2025, quarter: 2)\n"
     ]
    },
    {
     "name": "stderr",
     "output_type": "stream",
     "text": [
      "Collect financial statements info (date: 20250725):  10%|███████████▍                                                                                                      | 289/2879 [00:59<07:35,  5.69it/s]"
     ]
    },
    {
     "name": "stdout",
     "output_type": "stream",
     "text": [
      "\n",
      "Financial Statements: (stock_code: 002355, year: 2025, quarter: 2)\n",
      "\n",
      "Financial Statements: (stock_code: 002355, year: 2025, quarter: 1)\n",
      "\n",
      "Financial Statements: (stock_code: 002355, year: 2024, quarter: 4)\n",
      "No available financial data for 002355\n",
      "\n",
      "Financial Statements: (stock_code: 002350, year: 2025, quarter: 2)\n"
     ]
    },
    {
     "name": "stderr",
     "output_type": "stream",
     "text": [
      "Collect financial statements info (date: 20250725):  10%|███████████▌                                                                                                      | 291/2879 [01:00<07:58,  5.41it/s]"
     ]
    },
    {
     "name": "stdout",
     "output_type": "stream",
     "text": [
      "\n",
      "Financial Statements: (stock_code: 089140, year: 2025, quarter: 2)\n",
      "\n",
      "Financial Statements: (stock_code: 389650, year: 2025, quarter: 2)\n"
     ]
    },
    {
     "name": "stderr",
     "output_type": "stream",
     "text": [
      "Collect financial statements info (date: 20250725):  10%|███████████▌                                                                                                      | 293/2879 [01:00<08:24,  5.12it/s]"
     ]
    },
    {
     "name": "stdout",
     "output_type": "stream",
     "text": [
      "\n",
      "Financial Statements: (stock_code: 137940, year: 2025, quarter: 2)\n",
      "\n",
      "Financial Statements: (stock_code: 160550, year: 2025, quarter: 2)\n"
     ]
    },
    {
     "name": "stderr",
     "output_type": "stream",
     "text": [
      "Collect financial statements info (date: 20250725):  10%|███████████▋                                                                                                      | 295/2879 [01:01<08:18,  5.18it/s]"
     ]
    },
    {
     "name": "stdout",
     "output_type": "stream",
     "text": [
      "\n",
      "Financial Statements: (stock_code: 396270, year: 2025, quarter: 2)\n",
      "\n",
      "Financial Statements: (stock_code: 348210, year: 2025, quarter: 2)\n"
     ]
    },
    {
     "name": "stderr",
     "output_type": "stream",
     "text": [
      "IOPub message rate exceeded.\n",
      "The Jupyter server will temporarily stop sending output\n",
      "to the client in order to avoid crashing it.\n",
      "To change this limit, set the config variable\n",
      "`--ServerApp.iopub_msg_rate_limit`.\n",
      "\n",
      "Current values:\n",
      "ServerApp.iopub_msg_rate_limit=1000.0 (msgs/sec)\n",
      "ServerApp.rate_limit_window=3.0 (secs)\n",
      "\n"
     ]
    }
   ],
   "source": [
    "date_st = '20250725'\n",
    "date_fn = '20250725'\n",
    "date_li = get_date_list(date_st, date_fn)\n",
    "\n",
    "stock_graph = StockGraph(date_li)\n",
    "graph_df = stock_graph.run_all()\n",
    "\n",
    "stock_code_li = graph_df.stock_code\n",
    "company_nm_li = graph_df.stock_abbrv\n",
    "graph = StockKnowledgeGraph()"
   ]
  },
  {
   "cell_type": "code",
   "execution_count": null,
   "id": "b7f70eec-8f0a-4b8f-bda3-806bb35323a3",
   "metadata": {},
   "outputs": [],
   "source": []
  },
  {
   "cell_type": "code",
   "execution_count": null,
   "id": "2b3b504c-6faa-4151-89a1-6779c0433c56",
   "metadata": {},
   "outputs": [],
   "source": [
    "for stock_code, company_nm in tqdm(zip(stock_code_li, company_nm_li), total=len(stock_code_li), desc=\"Generate graph db...\"):\n",
    "    create_graph_db(graph, graph_df, stock_code, date_li)\n",
    "    # break"
   ]
  },
  {
   "cell_type": "markdown",
   "id": "5a85f7fd-100b-4b5f-a01e-563f89b62b9c",
   "metadata": {},
   "source": [
    "# GraphDB 삭제 (초기화용)"
   ]
  },
  {
   "cell_type": "code",
   "execution_count": 25,
   "id": "c551a8ff-85e1-454b-915b-34992a5debac",
   "metadata": {
    "scrolled": true
   },
   "outputs": [
    {
     "name": "stdout",
     "output_type": "stream",
     "text": [
      "Knowledge graph schema deleted!\n"
     ]
    }
   ],
   "source": [
    "graph = StockKnowledgeGraph()\n",
    "graph.delete_data()"
   ]
  },
  {
   "cell_type": "markdown",
   "id": "8ad53de7-5556-48ce-957a-6b7d2b606c93",
   "metadata": {},
   "source": [
    "# GraphDB 조회"
   ]
  },
  {
   "cell_type": "code",
   "execution_count": 26,
   "id": "3f3d40b5-3c6a-4af3-95b9-efb53ceb4389",
   "metadata": {},
   "outputs": [
    {
     "name": "stdout",
     "output_type": "stream",
     "text": [
      "0\n"
     ]
    }
   ],
   "source": [
    "graph.get_node_count()"
   ]
  },
  {
   "cell_type": "markdown",
   "id": "d7bab9be-6a58-4fe7-aeea-a3b0da1aefe0",
   "metadata": {},
   "source": [
    "# Graph 시각화"
   ]
  },
  {
   "cell_type": "markdown",
   "id": "a791f316-2e98-4524-a2e1-b2e7a4584531",
   "metadata": {},
   "source": [
    "MATCH (n)-[r]->(m) RETURN n, r, m"
   ]
  },
  {
   "cell_type": "code",
   "execution_count": null,
   "id": "9e3bcfa4-e8be-4d7a-ad64-4f4795f2df41",
   "metadata": {},
   "outputs": [],
   "source": []
  }
 ],
 "metadata": {
  "kernelspec": {
   "display_name": "Python 3 (ipykernel)",
   "language": "python",
   "name": "python3"
  },
  "language_info": {
   "codemirror_mode": {
    "name": "ipython",
    "version": 3
   },
   "file_extension": ".py",
   "mimetype": "text/x-python",
   "name": "python",
   "nbconvert_exporter": "python",
   "pygments_lexer": "ipython3",
   "version": "3.11.13"
  }
 },
 "nbformat": 4,
 "nbformat_minor": 5
}
